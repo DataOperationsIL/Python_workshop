{
 "cells": [
  {
   "cell_type": "code",
   "execution_count": null,
   "id": "8c20ea0a-7d17-4ebe-9f21-dcfad0604943",
   "metadata": {},
   "outputs": [],
   "source": []
  },
  {
   "cell_type": "markdown",
   "id": "0d0a87b0-b161-4fc9-9d76-cf72e28900b5",
   "metadata": {},
   "source": [
    "### Lists"
   ]
  },
  {
   "cell_type": "code",
   "execution_count": 1,
   "id": "07c7f418-573d-4cf0-b6e8-e3277a18ce54",
   "metadata": {},
   "outputs": [],
   "source": [
    "fruits = [\"apple\", \"banana\", \"cherry\"]"
   ]
  },
  {
   "cell_type": "code",
   "execution_count": 3,
   "id": "00d24b61-e07c-490b-8f16-390e84fb9d96",
   "metadata": {},
   "outputs": [
    {
     "name": "stdout",
     "output_type": "stream",
     "text": [
      "banana\n"
     ]
    }
   ],
   "source": [
    "print(fruits[1]) "
   ]
  },
  {
   "cell_type": "code",
   "execution_count": 4,
   "id": "da7a3f5a-4ab1-459e-9a55-bd594b59719c",
   "metadata": {},
   "outputs": [],
   "source": [
    "special_fruit = fruits[2]"
   ]
  },
  {
   "cell_type": "code",
   "execution_count": 5,
   "id": "d00ad0eb-a7a6-4cd9-a460-cf8031fb9788",
   "metadata": {},
   "outputs": [
    {
     "data": {
      "text/plain": [
       "'cherry'"
      ]
     },
     "execution_count": 5,
     "metadata": {},
     "output_type": "execute_result"
    }
   ],
   "source": [
    "special_fruit"
   ]
  },
  {
   "cell_type": "code",
   "execution_count": 6,
   "id": "7df57c4d-2520-4054-ba18-97853db51aa8",
   "metadata": {},
   "outputs": [
    {
     "data": {
      "text/plain": [
       "['apple', 'banana', 'cherry']"
      ]
     },
     "execution_count": 6,
     "metadata": {},
     "output_type": "execute_result"
    }
   ],
   "source": [
    "fruits"
   ]
  },
  {
   "cell_type": "code",
   "execution_count": 7,
   "id": "bb9fa647-7e3a-44bb-a3f8-280dbbc10717",
   "metadata": {},
   "outputs": [],
   "source": [
    "fruits.append(\"orange\")  "
   ]
  },
  {
   "cell_type": "code",
   "execution_count": 8,
   "id": "8c93c443-52cc-43b0-9977-42d1c1037b4e",
   "metadata": {},
   "outputs": [
    {
     "data": {
      "text/plain": [
       "['apple', 'banana', 'cherry', 'orange']"
      ]
     },
     "execution_count": 8,
     "metadata": {},
     "output_type": "execute_result"
    }
   ],
   "source": [
    "fruits"
   ]
  },
  {
   "cell_type": "code",
   "execution_count": null,
   "id": "835a3cf6-0a15-4730-b310-b2318c30f43d",
   "metadata": {},
   "outputs": [],
   "source": []
  },
  {
   "cell_type": "markdown",
   "id": "93754b2a-3701-439f-a29e-5fb69247065e",
   "metadata": {},
   "source": [
    "### Loops"
   ]
  },
  {
   "cell_type": "markdown",
   "id": "44e6f6f3-370b-4e9f-a082-f1f177294eec",
   "metadata": {},
   "source": [
    "#### For loop syntax:\n",
    "for variable in iterable:\n",
    "    \n",
    "    CODE HERE\n",
    "\n",
    "\n",
    "\n",
    "Iterable = an object that can be \"looped over\" - meaning you can go through it item by item, such as a list, tuple, dictionary, set, strings..."
   ]
  },
  {
   "cell_type": "code",
   "execution_count": 12,
   "id": "8e8d70e9-9390-48b0-a24b-d0f2cface4f3",
   "metadata": {},
   "outputs": [
    {
     "name": "stdout",
     "output_type": "stream",
     "text": [
      "apple\n",
      "banana\n",
      "cherry\n",
      "orange\n"
     ]
    }
   ],
   "source": [
    "for fruit in fruits:\n",
    "    print (fruit)"
   ]
  },
  {
   "cell_type": "code",
   "execution_count": 13,
   "id": "e03c4d33-9097-40e9-8b0a-158959832afb",
   "metadata": {},
   "outputs": [
    {
     "name": "stdout",
     "output_type": "stream",
     "text": [
      "apple\n",
      "banana\n",
      "cherry\n",
      "orange\n"
     ]
    }
   ],
   "source": [
    "for x in fruits:\n",
    "    print (x)"
   ]
  },
  {
   "cell_type": "code",
   "execution_count": 14,
   "id": "12761f2e-f6aa-425b-97c3-ff3a1306a816",
   "metadata": {},
   "outputs": [
    {
     "data": {
      "text/plain": [
       "range(0, 5)"
      ]
     },
     "execution_count": 14,
     "metadata": {},
     "output_type": "execute_result"
    }
   ],
   "source": [
    "range(5)"
   ]
  },
  {
   "cell_type": "code",
   "execution_count": 15,
   "id": "d52e9177-a9b2-4a4c-865e-bb5eec380edd",
   "metadata": {},
   "outputs": [
    {
     "name": "stdout",
     "output_type": "stream",
     "text": [
      "0\n",
      "1\n",
      "2\n",
      "3\n",
      "4\n",
      "5\n",
      "6\n",
      "7\n",
      "8\n",
      "9\n"
     ]
    }
   ],
   "source": [
    "for x in range(10):\n",
    "    print(x)"
   ]
  },
  {
   "cell_type": "markdown",
   "id": "b7c667c3-a04f-4b86-85fc-84d848b2c121",
   "metadata": {},
   "source": [
    "#### While loop syntax:\n",
    "for variable in iterable:\n",
    "    \n",
    "    CODE HERE"
   ]
  },
  {
   "cell_type": "code",
   "execution_count": 17,
   "id": "89898190-ad09-40bb-a8db-8abf873f3682",
   "metadata": {},
   "outputs": [
    {
     "data": {
      "text/plain": [
       "True"
      ]
     },
     "execution_count": 17,
     "metadata": {},
     "output_type": "execute_result"
    }
   ],
   "source": [
    "a = 5\n",
    "\n",
    "a>2"
   ]
  },
  {
   "cell_type": "code",
   "execution_count": 22,
   "id": "0ffd26cc-3152-4f18-863d-a46b801bf1fc",
   "metadata": {},
   "outputs": [
    {
     "name": "stdout",
     "output_type": "stream",
     "text": [
      "5\n",
      "4\n",
      "moving on\n",
      "4\n",
      "3\n",
      "moving on\n",
      "3\n",
      "2\n",
      "moving on\n"
     ]
    }
   ],
   "source": [
    "while a > 2:\n",
    "    print(a)\n",
    "    a -= 1  #other option: a = a-1\n",
    "    print(a)\n",
    "    print(\"moving on\")"
   ]
  },
  {
   "cell_type": "code",
   "execution_count": 27,
   "id": "ad5d838d-cbfb-402b-beb9-4e0c1e07d807",
   "metadata": {},
   "outputs": [],
   "source": [
    "a = 3\n",
    "# while a > 2:\n",
    "#     print(a)"
   ]
  },
  {
   "cell_type": "markdown",
   "id": "78ac29b2-9a07-4df1-b9f5-789f439bf0e0",
   "metadata": {},
   "source": [
    "### List comprehension syntax: [expression for item in iterable]"
   ]
  },
  {
   "cell_type": "code",
   "execution_count": 34,
   "id": "56dc9428-ab3b-450c-83d6-c6c3238f04b5",
   "metadata": {},
   "outputs": [],
   "source": [
    "numbers = [1, 2, 3, 4] #, True, \"abc\"]"
   ]
  },
  {
   "cell_type": "code",
   "execution_count": 36,
   "id": "a868d6f8-bdd9-4255-9426-0308c5089951",
   "metadata": {},
   "outputs": [
    {
     "data": {
      "text/plain": [
       "[1, 4, 9, 16]"
      ]
     },
     "execution_count": 36,
     "metadata": {},
     "output_type": "execute_result"
    }
   ],
   "source": [
    "squares = [num ** 2 for num in numbers]  \n",
    "\n",
    "squares"
   ]
  },
  {
   "cell_type": "code",
   "execution_count": null,
   "id": "0a084db2-51ff-4bec-9dcd-0154688db328",
   "metadata": {},
   "outputs": [],
   "source": []
  },
  {
   "cell_type": "code",
   "execution_count": 39,
   "id": "18bf15a0-cc6f-40e8-94d4-c0a128fd27a4",
   "metadata": {},
   "outputs": [
    {
     "data": {
      "text/plain": [
       "1"
      ]
     },
     "execution_count": 39,
     "metadata": {},
     "output_type": "execute_result"
    }
   ],
   "source": [
    "3 % 2  # 3/2 = 1+1/2"
   ]
  },
  {
   "cell_type": "code",
   "execution_count": 115,
   "id": "11cb0286-bc6c-4bd6-b590-679ee2649cc0",
   "metadata": {},
   "outputs": [
    {
     "data": {
      "text/plain": [
       "1"
      ]
     },
     "execution_count": 115,
     "metadata": {},
     "output_type": "execute_result"
    }
   ],
   "source": [
    "5%2 #remainder"
   ]
  },
  {
   "cell_type": "code",
   "execution_count": 113,
   "id": "9f87f051-d1ad-48ab-bf5e-34ca65b8d84d",
   "metadata": {},
   "outputs": [
    {
     "data": {
      "text/plain": [
       "2"
      ]
     },
     "execution_count": 113,
     "metadata": {},
     "output_type": "execute_result"
    }
   ],
   "source": [
    "5//2 # without the remainder"
   ]
  },
  {
   "cell_type": "code",
   "execution_count": 41,
   "id": "692f22a3-27ec-48cd-b6cc-d8c2d05987dd",
   "metadata": {},
   "outputs": [
    {
     "data": {
      "text/plain": [
       "False"
      ]
     },
     "execution_count": 41,
     "metadata": {},
     "output_type": "execute_result"
    }
   ],
   "source": [
    "3 % 2 == 0"
   ]
  },
  {
   "cell_type": "code",
   "execution_count": null,
   "id": "eb0c7647-8654-4869-8c88-95f63deb2e35",
   "metadata": {},
   "outputs": [],
   "source": []
  },
  {
   "cell_type": "code",
   "execution_count": 43,
   "id": "597b1f1a-91b1-4fc3-99c3-c20e2588a119",
   "metadata": {},
   "outputs": [
    {
     "data": {
      "text/plain": [
       "True"
      ]
     },
     "execution_count": 43,
     "metadata": {},
     "output_type": "execute_result"
    }
   ],
   "source": [
    "4 % 2 == 0"
   ]
  },
  {
   "cell_type": "markdown",
   "id": "2cf9db15-cbf4-4774-87aa-1fff22f1bb2f",
   "metadata": {},
   "source": []
  },
  {
   "cell_type": "code",
   "execution_count": 46,
   "id": "30ead014-bc34-459e-a44b-0599f19f446d",
   "metadata": {},
   "outputs": [
    {
     "data": {
      "text/plain": [
       "[0, 2, 4, 6, 8]"
      ]
     },
     "execution_count": 46,
     "metadata": {},
     "output_type": "execute_result"
    }
   ],
   "source": [
    "evens = [x for x in range(10) if x % 2 == 0]  \n",
    "\n",
    "evens"
   ]
  },
  {
   "cell_type": "code",
   "execution_count": null,
   "id": "971af153-5bba-4a32-be10-5a0cd397edca",
   "metadata": {},
   "outputs": [],
   "source": []
  },
  {
   "cell_type": "markdown",
   "id": "aa09610d-7bea-45be-a55e-d9dbf2759406",
   "metadata": {},
   "source": [
    "### Strings"
   ]
  },
  {
   "cell_type": "code",
   "execution_count": 48,
   "id": "07ba8775-5af2-4ebe-996c-cd97de776ba2",
   "metadata": {},
   "outputs": [],
   "source": [
    "string = \"Python\""
   ]
  },
  {
   "cell_type": "code",
   "execution_count": 72,
   "id": "e60b2a39-a60f-41aa-b32e-78b679758c97",
   "metadata": {},
   "outputs": [
    {
     "data": {
      "text/plain": [
       "str"
      ]
     },
     "execution_count": 72,
     "metadata": {},
     "output_type": "execute_result"
    }
   ],
   "source": [
    "type(string)"
   ]
  },
  {
   "cell_type": "code",
   "execution_count": 62,
   "id": "a68193e7-2e07-469a-ba97-47f610fb02f7",
   "metadata": {},
   "outputs": [],
   "source": [
    "string2 = [\"Python\"]"
   ]
  },
  {
   "cell_type": "code",
   "execution_count": 74,
   "id": "22b287b2-5611-444e-990b-4417dc208b4f",
   "metadata": {},
   "outputs": [
    {
     "data": {
      "text/plain": [
       "list"
      ]
     },
     "execution_count": 74,
     "metadata": {},
     "output_type": "execute_result"
    }
   ],
   "source": [
    "type(string2)"
   ]
  },
  {
   "cell_type": "code",
   "execution_count": 50,
   "id": "6a1f49df-856d-48e7-8b02-d5f217ca3a0f",
   "metadata": {},
   "outputs": [
    {
     "data": {
      "text/plain": [
       "'y'"
      ]
     },
     "execution_count": 50,
     "metadata": {},
     "output_type": "execute_result"
    }
   ],
   "source": [
    "string[1]"
   ]
  },
  {
   "cell_type": "code",
   "execution_count": 64,
   "id": "b67bfc12-7175-44e3-bbde-0379d4d70f7e",
   "metadata": {},
   "outputs": [
    {
     "ename": "IndexError",
     "evalue": "list index out of range",
     "output_type": "error",
     "traceback": [
      "\u001b[1;31m---------------------------------------------------------------------------\u001b[0m",
      "\u001b[1;31mIndexError\u001b[0m                                Traceback (most recent call last)",
      "Cell \u001b[1;32mIn[64], line 1\u001b[0m\n\u001b[1;32m----> 1\u001b[0m string2[\u001b[38;5;241m1\u001b[39m]\n",
      "\u001b[1;31mIndexError\u001b[0m: list index out of range"
     ]
    }
   ],
   "source": [
    "string2[1]"
   ]
  },
  {
   "cell_type": "code",
   "execution_count": 52,
   "id": "9e9c09d2-aae6-452e-9ba0-80cd322e6530",
   "metadata": {},
   "outputs": [
    {
     "data": {
      "text/plain": [
       "'n'"
      ]
     },
     "execution_count": 52,
     "metadata": {},
     "output_type": "execute_result"
    }
   ],
   "source": [
    "string[-1]"
   ]
  },
  {
   "cell_type": "code",
   "execution_count": 76,
   "id": "714b1555-b3e4-40c1-bc4b-e839c1558c5c",
   "metadata": {},
   "outputs": [
    {
     "data": {
      "text/plain": [
       "'Python'"
      ]
     },
     "execution_count": 76,
     "metadata": {},
     "output_type": "execute_result"
    }
   ],
   "source": [
    "string2[-1]"
   ]
  },
  {
   "cell_type": "code",
   "execution_count": 54,
   "id": "a001352c-8cd4-4e90-ac3c-ebbceb13dd23",
   "metadata": {},
   "outputs": [
    {
     "data": {
      "text/plain": [
       "'R'"
      ]
     },
     "execution_count": 54,
     "metadata": {},
     "output_type": "execute_result"
    }
   ],
   "source": [
    "'r'.upper()"
   ]
  },
  {
   "cell_type": "code",
   "execution_count": 66,
   "id": "dc6bb059-5ac2-4e55-8812-cbedb0fd18c7",
   "metadata": {},
   "outputs": [
    {
     "ename": "AttributeError",
     "evalue": "'list' object has no attribute 'upper'",
     "output_type": "error",
     "traceback": [
      "\u001b[1;31m---------------------------------------------------------------------------\u001b[0m",
      "\u001b[1;31mAttributeError\u001b[0m                            Traceback (most recent call last)",
      "Cell \u001b[1;32mIn[66], line 1\u001b[0m\n\u001b[1;32m----> 1\u001b[0m string2\u001b[38;5;241m.\u001b[39mupper()\n",
      "\u001b[1;31mAttributeError\u001b[0m: 'list' object has no attribute 'upper'"
     ]
    }
   ],
   "source": [
    "string2.upper()"
   ]
  },
  {
   "cell_type": "code",
   "execution_count": 70,
   "id": "e70bf223-2578-4135-b47e-47bad7f7dffc",
   "metadata": {},
   "outputs": [
    {
     "data": {
      "text/plain": [
       "'PYTHON'"
      ]
     },
     "execution_count": 70,
     "metadata": {},
     "output_type": "execute_result"
    }
   ],
   "source": [
    "string2[0].upper()"
   ]
  },
  {
   "cell_type": "code",
   "execution_count": 56,
   "id": "25070bc6-f9f7-4958-886a-ac517a70b02e",
   "metadata": {},
   "outputs": [
    {
     "data": {
      "text/plain": [
       "['P', 'Y', 'T', 'H', 'O', 'N']"
      ]
     },
     "execution_count": 56,
     "metadata": {},
     "output_type": "execute_result"
    }
   ],
   "source": [
    "[char.upper() for char in string]"
   ]
  },
  {
   "cell_type": "code",
   "execution_count": 60,
   "id": "fb008363-ff52-44b3-b6c4-ff14a67249ba",
   "metadata": {},
   "outputs": [
    {
     "data": {
      "text/plain": [
       "['P', 'Y', 'T', 'H', 'O', 'N']"
      ]
     },
     "execution_count": 60,
     "metadata": {},
     "output_type": "execute_result"
    }
   ],
   "source": [
    "[x.upper() for x in string]"
   ]
  },
  {
   "cell_type": "code",
   "execution_count": 78,
   "id": "ebf707f2-db2d-43c2-bbc7-8ac1d17c9dbf",
   "metadata": {},
   "outputs": [],
   "source": [
    "word = \"Python\"\n",
    "vowels = \"aeiou\"\n",
    "result = [char for char in word if char in vowels]"
   ]
  },
  {
   "cell_type": "code",
   "execution_count": 80,
   "id": "2773dda2-5717-411f-bcd2-7ecb9a6949cf",
   "metadata": {},
   "outputs": [
    {
     "data": {
      "text/plain": [
       "['o']"
      ]
     },
     "execution_count": 80,
     "metadata": {},
     "output_type": "execute_result"
    }
   ],
   "source": [
    "result"
   ]
  },
  {
   "cell_type": "code",
   "execution_count": 82,
   "id": "a44fc890-6971-4146-b5dc-0316ed7e8551",
   "metadata": {},
   "outputs": [],
   "source": [
    "greeting = \"Hello, World!\" "
   ]
  },
  {
   "cell_type": "code",
   "execution_count": 84,
   "id": "40397b27-d201-412f-b8c1-b16c0bc0ed49",
   "metadata": {},
   "outputs": [
    {
     "data": {
      "text/plain": [
       "'hello, world!'"
      ]
     },
     "execution_count": 84,
     "metadata": {},
     "output_type": "execute_result"
    }
   ],
   "source": [
    "greeting.lower()    "
   ]
  },
  {
   "cell_type": "code",
   "execution_count": 86,
   "id": "c50cc5ae-6e8e-4a55-94d4-4bc70476d7cb",
   "metadata": {},
   "outputs": [
    {
     "data": {
      "text/plain": [
       "'World'"
      ]
     },
     "execution_count": 86,
     "metadata": {},
     "output_type": "execute_result"
    }
   ],
   "source": [
    "greeting[7:12] "
   ]
  },
  {
   "cell_type": "markdown",
   "id": "b467464a-bb83-4248-9bcf-8010227e2d52",
   "metadata": {},
   "source": [
    "### Dictionary = {key: value, key:value...}"
   ]
  },
  {
   "cell_type": "code",
   "execution_count": 91,
   "id": "86b5e74a-1ba3-4175-b6dd-dee82afddd96",
   "metadata": {},
   "outputs": [
    {
     "data": {
      "text/plain": [
       "{'Alice': '123-4567', 'Bob': '987-6543', 1: '3', 4: True}"
      ]
     },
     "execution_count": 91,
     "metadata": {},
     "output_type": "execute_result"
    }
   ],
   "source": [
    "phonebook = {\"Alice\": \"123-4567\", \"Bob\": \"987-6543\", 1: \"3\", 4: True}\n",
    "phonebook"
   ]
  },
  {
   "cell_type": "code",
   "execution_count": 93,
   "id": "de69ab54-409c-43be-88aa-83a9e590f4f4",
   "metadata": {},
   "outputs": [
    {
     "data": {
      "text/plain": [
       "'123-4567'"
      ]
     },
     "execution_count": 93,
     "metadata": {},
     "output_type": "execute_result"
    }
   ],
   "source": [
    "phonebook[\"Alice\"]"
   ]
  },
  {
   "cell_type": "code",
   "execution_count": 95,
   "id": "19dbed9a-8b2f-453c-90a9-47812b5586b3",
   "metadata": {},
   "outputs": [
    {
     "data": {
      "text/plain": [
       "'3'"
      ]
     },
     "execution_count": 95,
     "metadata": {},
     "output_type": "execute_result"
    }
   ],
   "source": [
    "phonebook[1]"
   ]
  },
  {
   "cell_type": "code",
   "execution_count": 97,
   "id": "73dbe1d8-6a8c-4b47-ab34-48cff2f4c3be",
   "metadata": {},
   "outputs": [],
   "source": [
    "phonebook[\"Charlie\"] = \"555-0000\" "
   ]
  },
  {
   "cell_type": "code",
   "execution_count": 99,
   "id": "4a4c11f1-29f4-40d7-bf09-83acd0a6ab8d",
   "metadata": {},
   "outputs": [
    {
     "data": {
      "text/plain": [
       "{'Alice': '123-4567',\n",
       " 'Bob': '987-6543',\n",
       " 1: '3',\n",
       " 4: True,\n",
       " 'Charlie': '555-0000'}"
      ]
     },
     "execution_count": 99,
     "metadata": {},
     "output_type": "execute_result"
    }
   ],
   "source": [
    "phonebook"
   ]
  },
  {
   "cell_type": "code",
   "execution_count": 101,
   "id": "6f25aa36-c976-4ac0-8651-ad3286b15b7c",
   "metadata": {},
   "outputs": [
    {
     "data": {
      "text/plain": [
       "{'a': 1, 'b': 2, 'c': 3}"
      ]
     },
     "execution_count": 101,
     "metadata": {},
     "output_type": "execute_result"
    }
   ],
   "source": [
    "d = {'a': 1, 'b': 2, 'c': 3}\n",
    "d"
   ]
  },
  {
   "cell_type": "code",
   "execution_count": 105,
   "id": "c9c2bf22-5d2d-4db3-92d3-dac744057b82",
   "metadata": {},
   "outputs": [
    {
     "name": "stdout",
     "output_type": "stream",
     "text": [
      "1\n",
      "2\n",
      "3\n"
     ]
    }
   ],
   "source": [
    "for v in d.values():\n",
    "    print(v)"
   ]
  },
  {
   "cell_type": "code",
   "execution_count": 107,
   "id": "eace0dbc-6820-49e7-93c2-4adf40a4405e",
   "metadata": {},
   "outputs": [],
   "source": [
    "doubled_values = [value * 2 for value in d.values()]"
   ]
  },
  {
   "cell_type": "code",
   "execution_count": 109,
   "id": "3cc5488a-bdcc-45cc-8057-3ec1d9611964",
   "metadata": {},
   "outputs": [
    {
     "data": {
      "text/plain": [
       "[2, 4, 6]"
      ]
     },
     "execution_count": 109,
     "metadata": {},
     "output_type": "execute_result"
    }
   ],
   "source": [
    "doubled_values"
   ]
  },
  {
   "cell_type": "code",
   "execution_count": null,
   "id": "b294a79d-b2de-4a8c-8fbf-b6d9c5947e6f",
   "metadata": {},
   "outputs": [],
   "source": []
  },
  {
   "cell_type": "code",
   "execution_count": null,
   "id": "2361d1f8-e767-45fa-b157-1604a2b24d35",
   "metadata": {},
   "outputs": [],
   "source": []
  },
  {
   "cell_type": "code",
   "execution_count": null,
   "id": "f6488cf6-5fad-40ae-b023-35c67cfb4aa3",
   "metadata": {},
   "outputs": [],
   "source": []
  },
  {
   "cell_type": "code",
   "execution_count": null,
   "id": "f74fb882-1b31-409e-a5c1-c1e091b53a78",
   "metadata": {},
   "outputs": [],
   "source": []
  }
 ],
 "metadata": {
  "kernelspec": {
   "display_name": "Python [conda env:base] *",
   "language": "python",
   "name": "conda-base-py"
  },
  "language_info": {
   "codemirror_mode": {
    "name": "ipython",
    "version": 3
   },
   "file_extension": ".py",
   "mimetype": "text/x-python",
   "name": "python",
   "nbconvert_exporter": "python",
   "pygments_lexer": "ipython3",
   "version": "3.12.7"
  },
  "widgets": {
   "application/vnd.jupyter.widget-state+json": {
    "state": {},
    "version_major": 2,
    "version_minor": 0
   }
  }
 },
 "nbformat": 4,
 "nbformat_minor": 5
}
