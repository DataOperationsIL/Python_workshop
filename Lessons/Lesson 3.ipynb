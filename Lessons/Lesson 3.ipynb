{
 "cells": [
  {
   "cell_type": "markdown",
   "id": "299ad125-3793-46a7-9e04-3763058ebf48",
   "metadata": {},
   "source": [
    "## Recap (previous lesson)"
   ]
  },
  {
   "cell_type": "code",
   "execution_count": 1,
   "id": "1b3024e4-b012-4c2c-befe-32d41656e551",
   "metadata": {},
   "outputs": [],
   "source": [
    "fruits = [\"apple\", \"banana\", \"cherry\"] #indexes: 0, 1, 2"
   ]
  },
  {
   "cell_type": "code",
   "execution_count": 3,
   "id": "a7528903-8113-4354-be99-e842cd6f7dcc",
   "metadata": {},
   "outputs": [
    {
     "name": "stdout",
     "output_type": "stream",
     "text": [
      "apple\n",
      "banana\n",
      "cherry\n"
     ]
    }
   ],
   "source": [
    "for x in fruits:\n",
    "    print (x)"
   ]
  },
  {
   "cell_type": "code",
   "execution_count": 5,
   "id": "2ce64120-9d15-4c6c-aa77-d4eb7fa7d01a",
   "metadata": {},
   "outputs": [
    {
     "name": "stdout",
     "output_type": "stream",
     "text": [
      "5\n",
      "4\n",
      "moving on\n",
      "4\n",
      "3\n",
      "moving on\n",
      "3\n",
      "2\n",
      "moving on\n"
     ]
    }
   ],
   "source": [
    "a = 5\n",
    "\n",
    "while a > 2:\n",
    "    print(a)\n",
    "    a -= 1  #other option: a = a-1\n",
    "    print(a)\n",
    "    print(\"moving on\")"
   ]
  },
  {
   "cell_type": "code",
   "execution_count": 7,
   "id": "ec436019-fdfd-4ce3-a153-83c36109e99d",
   "metadata": {},
   "outputs": [
    {
     "data": {
      "text/plain": [
       "['appleapple', 'bananabanana', 'cherrycherry']"
      ]
     },
     "execution_count": 7,
     "metadata": {},
     "output_type": "execute_result"
    }
   ],
   "source": [
    "[f+f for f in fruits]"
   ]
  },
  {
   "cell_type": "code",
   "execution_count": 9,
   "id": "50aa5e06-fcd1-4225-b66d-a5401d504815",
   "metadata": {},
   "outputs": [
    {
     "data": {
      "text/plain": [
       "[0, 2, 4, 6, 8]"
      ]
     },
     "execution_count": 9,
     "metadata": {},
     "output_type": "execute_result"
    }
   ],
   "source": [
    "[x for x in range(10) if x % 2 == 0] "
   ]
  },
  {
   "cell_type": "code",
   "execution_count": 11,
   "id": "5aa0d38a-566c-45c0-881e-85a8c467db45",
   "metadata": {},
   "outputs": [
    {
     "data": {
      "text/plain": [
       "'123-4567'"
      ]
     },
     "execution_count": 11,
     "metadata": {},
     "output_type": "execute_result"
    }
   ],
   "source": [
    "phonebook = {\"Alice\": \"123-4567\", \"Bob\": \"987-6543\", 1: \"3\", 4: True}\n",
    "phonebook['Alice']"
   ]
  },
  {
   "cell_type": "code",
   "execution_count": 13,
   "id": "ba96a70f-d341-4e11-aa36-92219a74c148",
   "metadata": {},
   "outputs": [
    {
     "ename": "KeyError",
     "evalue": "0",
     "output_type": "error",
     "traceback": [
      "\u001b[1;31m---------------------------------------------------------------------------\u001b[0m",
      "\u001b[1;31mKeyError\u001b[0m                                  Traceback (most recent call last)",
      "Cell \u001b[1;32mIn[13], line 1\u001b[0m\n\u001b[1;32m----> 1\u001b[0m phonebook[\u001b[38;5;241m0\u001b[39m]\n",
      "\u001b[1;31mKeyError\u001b[0m: 0"
     ]
    }
   ],
   "source": [
    "phonebook[0] #dictionaries don't have indexes, you can turn them into a list and then call by index"
   ]
  },
  {
   "cell_type": "markdown",
   "id": "dcac19a5-4c3c-4b8d-8d47-b0c8020350eb",
   "metadata": {},
   "source": [
    "## Functions"
   ]
  },
  {
   "cell_type": "code",
   "execution_count": 15,
   "id": "d4204bd2-0371-4b7a-92bd-5688c9e0bf28",
   "metadata": {},
   "outputs": [],
   "source": [
    "# f(x) = x+5\n",
    "\n",
    "def greet(): #define a function\n",
    "    print(\"Hello, world!\")"
   ]
  },
  {
   "cell_type": "code",
   "execution_count": 17,
   "id": "2934f90a-0be7-4573-84bb-38465267f4a7",
   "metadata": {},
   "outputs": [
    {
     "name": "stdout",
     "output_type": "stream",
     "text": [
      "Hello, world!\n"
     ]
    }
   ],
   "source": [
    "greet() # function call"
   ]
  },
  {
   "cell_type": "code",
   "execution_count": null,
   "id": "15dac8c8-de14-4360-a884-209c866e9d72",
   "metadata": {},
   "outputs": [],
   "source": []
  },
  {
   "cell_type": "code",
   "execution_count": null,
   "id": "d7847c75-ce34-4ad3-81d6-1a7519c2cacf",
   "metadata": {},
   "outputs": [],
   "source": [
    "# PEP 8 - Python writing conventions"
   ]
  },
  {
   "cell_type": "markdown",
   "id": "9b6c2df3-6206-483d-8212-4498d94646e1",
   "metadata": {},
   "source": [
    "#### important things to notice:\n",
    "(1) difference between print and return\n",
    "\n",
    "(2) difference between writing a function and using it"
   ]
  },
  {
   "cell_type": "code",
   "execution_count": 19,
   "id": "d4b76ade-34b2-4f95-beb0-d14cab786716",
   "metadata": {},
   "outputs": [],
   "source": [
    "def add(a, b):\n",
    "    '''This function returns the sum of a and b'''\n",
    "    # This function returns the sum of a and b\n",
    "    return a + b\n"
   ]
  },
  {
   "cell_type": "code",
   "execution_count": 21,
   "id": "d5471030-3933-4178-9b36-6884b7bcd977",
   "metadata": {},
   "outputs": [
    {
     "data": {
      "text/plain": [
       "8"
      ]
     },
     "execution_count": 21,
     "metadata": {},
     "output_type": "execute_result"
    }
   ],
   "source": [
    "add(3, 5)"
   ]
  },
  {
   "cell_type": "code",
   "execution_count": 23,
   "id": "41d4d2fc-66d7-4658-b2a3-b77c1441d030",
   "metadata": {},
   "outputs": [
    {
     "name": "stdout",
     "output_type": "stream",
     "text": [
      "8\n"
     ]
    }
   ],
   "source": [
    "sum_result = add(3, 5)\n",
    "print(sum_result)"
   ]
  },
  {
   "cell_type": "code",
   "execution_count": 25,
   "id": "d3868784-f00f-43e7-b7da-0a4c5a9fa5c1",
   "metadata": {},
   "outputs": [
    {
     "name": "stdout",
     "output_type": "stream",
     "text": [
      "Hello, world!\n"
     ]
    }
   ],
   "source": [
    "greet_result = greet()"
   ]
  },
  {
   "cell_type": "code",
   "execution_count": 27,
   "id": "3f19ab40-2fe9-4a6d-a2b2-0c17df5ea6b8",
   "metadata": {},
   "outputs": [
    {
     "data": {
      "text/plain": [
       "NoneType"
      ]
     },
     "execution_count": 27,
     "metadata": {},
     "output_type": "execute_result"
    }
   ],
   "source": [
    "type(greet_result)"
   ]
  },
  {
   "cell_type": "code",
   "execution_count": 29,
   "id": "b4641d99-b25a-4ab5-8480-9fcde9ddae3a",
   "metadata": {},
   "outputs": [
    {
     "name": "stdout",
     "output_type": "stream",
     "text": [
      "None\n"
     ]
    }
   ],
   "source": [
    "print(greet_result)"
   ]
  },
  {
   "cell_type": "code",
   "execution_count": 37,
   "id": "e1360678-cfe6-4cfb-8432-e719ca15264c",
   "metadata": {},
   "outputs": [
    {
     "data": {
      "text/plain": [
       "'aabbbcc'"
      ]
     },
     "execution_count": 37,
     "metadata": {},
     "output_type": "execute_result"
    }
   ],
   "source": [
    "f\"aabbbcc{x}\" #string format"
   ]
  },
  {
   "cell_type": "code",
   "execution_count": 31,
   "id": "74230430-1658-4b4b-a60b-2c169c7e6ac8",
   "metadata": {},
   "outputs": [],
   "source": [
    "def greet(name=\"Guest\"): ##same function, default value \"Guest\"\n",
    "    print(f\"Hello, {name}!\")"
   ]
  },
  {
   "cell_type": "code",
   "execution_count": 33,
   "id": "e02b114c-9f9e-4bf7-b2c1-5d09ac00b897",
   "metadata": {},
   "outputs": [
    {
     "name": "stdout",
     "output_type": "stream",
     "text": [
      "Hello, Guest!\n"
     ]
    }
   ],
   "source": [
    "greet()"
   ]
  },
  {
   "cell_type": "code",
   "execution_count": 35,
   "id": "c7e4cf8f-e1ed-497a-8a66-12eeef3ae86f",
   "metadata": {},
   "outputs": [
    {
     "name": "stdout",
     "output_type": "stream",
     "text": [
      "Hello, Danielle!\n"
     ]
    }
   ],
   "source": [
    "greet(\"Danielle\")"
   ]
  },
  {
   "cell_type": "code",
   "execution_count": null,
   "id": "111fa37a-63d8-464e-b312-515fcafd3824",
   "metadata": {},
   "outputs": [],
   "source": []
  },
  {
   "cell_type": "code",
   "execution_count": 39,
   "id": "d1dada00-c596-42bc-963f-8bb8a84fedbc",
   "metadata": {},
   "outputs": [],
   "source": [
    "def sum_all(*args): ### when you don't know how many arguments you have\n",
    "    return sum(args)"
   ]
  },
  {
   "cell_type": "code",
   "execution_count": 41,
   "id": "2ebcb45f-28af-4e64-9ad1-1cd2c4a1b2e3",
   "metadata": {},
   "outputs": [
    {
     "data": {
      "text/plain": [
       "6"
      ]
     },
     "execution_count": 41,
     "metadata": {},
     "output_type": "execute_result"
    }
   ],
   "source": [
    "sum_all(1, 2, 3)"
   ]
  },
  {
   "cell_type": "code",
   "execution_count": 43,
   "id": "4fb95241-307f-4ebb-b5bc-a28d284e2716",
   "metadata": {},
   "outputs": [
    {
     "data": {
      "text/plain": [
       "10"
      ]
     },
     "execution_count": 43,
     "metadata": {},
     "output_type": "execute_result"
    }
   ],
   "source": [
    "sum_all(1, 2, 3, 4)"
   ]
  },
  {
   "cell_type": "code",
   "execution_count": 49,
   "id": "0688b2ab-5e55-4334-ae12-d5070f3856e2",
   "metadata": {},
   "outputs": [
    {
     "name": "stdout",
     "output_type": "stream",
     "text": [
      "Help on built-in function sum in module builtins:\n",
      "\n",
      "sum(iterable, /, start=0)\n",
      "    Return the sum of a 'start' value (default: 0) plus an iterable of numbers\n",
      "\n",
      "    When the iterable is empty, return the start value.\n",
      "    This function is intended specifically for use with numeric values and may\n",
      "    reject non-numeric types.\n",
      "\n"
     ]
    }
   ],
   "source": [
    "help(sum)"
   ]
  },
  {
   "cell_type": "code",
   "execution_count": 45,
   "id": "5fe4888c-2422-4495-8ef1-b2ee14e0730f",
   "metadata": {},
   "outputs": [
    {
     "ename": "TypeError",
     "evalue": "unsupported operand type(s) for +: 'int' and 'str'",
     "output_type": "error",
     "traceback": [
      "\u001b[1;31m---------------------------------------------------------------------------\u001b[0m",
      "\u001b[1;31mTypeError\u001b[0m                                 Traceback (most recent call last)",
      "Cell \u001b[1;32mIn[45], line 1\u001b[0m\n\u001b[1;32m----> 1\u001b[0m sum_all(\u001b[38;5;124m\"\u001b[39m\u001b[38;5;124ma\u001b[39m\u001b[38;5;124m\"\u001b[39m, \u001b[38;5;124m\"\u001b[39m\u001b[38;5;124mb\u001b[39m\u001b[38;5;124m\"\u001b[39m)\n",
      "Cell \u001b[1;32mIn[39], line 2\u001b[0m, in \u001b[0;36msum_all\u001b[1;34m(*args)\u001b[0m\n\u001b[0;32m      1\u001b[0m \u001b[38;5;28;01mdef\u001b[39;00m \u001b[38;5;21msum_all\u001b[39m(\u001b[38;5;241m*\u001b[39margs): \u001b[38;5;66;03m### when you don't know how many arguments you have\u001b[39;00m\n\u001b[1;32m----> 2\u001b[0m     \u001b[38;5;28;01mreturn\u001b[39;00m \u001b[38;5;28msum\u001b[39m(args)\n",
      "\u001b[1;31mTypeError\u001b[0m: unsupported operand type(s) for +: 'int' and 'str'"
     ]
    }
   ],
   "source": [
    "sum_all(\"a\", \"b\") #always remember "
   ]
  },
  {
   "cell_type": "code",
   "execution_count": 47,
   "id": "a64987ed-948c-4f4e-ab0a-f1393e853827",
   "metadata": {},
   "outputs": [
    {
     "data": {
      "text/plain": [
       "'ab'"
      ]
     },
     "execution_count": 47,
     "metadata": {},
     "output_type": "execute_result"
    }
   ],
   "source": [
    "add(\"a\",\"b\")"
   ]
  },
  {
   "cell_type": "markdown",
   "id": "8cf4d8f1-2665-47eb-9631-8492c75af8a8",
   "metadata": {},
   "source": [
    "### Remember booleans? they're super useful in functions!"
   ]
  },
  {
   "cell_type": "code",
   "execution_count": 51,
   "id": "8947b649-9ee5-4c2a-946e-b7c847563ddd",
   "metadata": {},
   "outputs": [],
   "source": [
    "def check_number(num):\n",
    "    if num > 0:\n",
    "        return \"Positive\"\n",
    "    elif num == 0:\n",
    "        return \"Zero\"\n",
    "    else:\n",
    "        return \"Negative\""
   ]
  },
  {
   "cell_type": "code",
   "execution_count": 53,
   "id": "16775bba-b987-4473-a007-4e3805ca1e1f",
   "metadata": {},
   "outputs": [
    {
     "data": {
      "text/plain": [
       "'Negative'"
      ]
     },
     "execution_count": 53,
     "metadata": {},
     "output_type": "execute_result"
    }
   ],
   "source": [
    "check_number(-5)"
   ]
  },
  {
   "cell_type": "code",
   "execution_count": 55,
   "id": "0863a771-9c8e-4661-ab69-ae593fecc43e",
   "metadata": {},
   "outputs": [
    {
     "data": {
      "text/plain": [
       "False"
      ]
     },
     "execution_count": 55,
     "metadata": {},
     "output_type": "execute_result"
    }
   ],
   "source": [
    "-5 > 0"
   ]
  },
  {
   "cell_type": "code",
   "execution_count": 57,
   "id": "d5debc3d-13d4-444f-92c5-f07fbe0e87e8",
   "metadata": {},
   "outputs": [
    {
     "data": {
      "text/plain": [
       "False"
      ]
     },
     "execution_count": 57,
     "metadata": {},
     "output_type": "execute_result"
    }
   ],
   "source": [
    "-5 == 0"
   ]
  },
  {
   "cell_type": "code",
   "execution_count": 59,
   "id": "b1f2b9ec-3373-4435-b1cc-2895fc467cac",
   "metadata": {},
   "outputs": [
    {
     "data": {
      "text/plain": [
       "False"
      ]
     },
     "execution_count": 59,
     "metadata": {},
     "output_type": "execute_result"
    }
   ],
   "source": [
    "a = 4 #definition\n",
    "\n",
    "a == 5 #equality check"
   ]
  },
  {
   "cell_type": "code",
   "execution_count": 61,
   "id": "2faa2101-12d3-4222-a685-6791b88ca2d4",
   "metadata": {},
   "outputs": [],
   "source": [
    "my_list = [1, 4, 6, 7, 9, 9, 9]\n",
    "\n",
    "def num_in_my_list(num):\n",
    "    if num in my_list:\n",
    "        print(my_list)\n",
    "    else:\n",
    "        print(\"not in my_list!\")"
   ]
  },
  {
   "cell_type": "code",
   "execution_count": 63,
   "id": "00e4adca-2172-4642-8450-716823331aed",
   "metadata": {},
   "outputs": [
    {
     "name": "stdout",
     "output_type": "stream",
     "text": [
      "[1, 4, 6, 7, 9, 9, 9]\n"
     ]
    }
   ],
   "source": [
    "num_in_my_list(9)"
   ]
  },
  {
   "cell_type": "code",
   "execution_count": 65,
   "id": "30152cf6-fd94-4652-a4b9-ede46e64e807",
   "metadata": {},
   "outputs": [
    {
     "name": "stdout",
     "output_type": "stream",
     "text": [
      "not in my_list!\n"
     ]
    }
   ],
   "source": [
    "num_in_my_list(11)"
   ]
  },
  {
   "cell_type": "code",
   "execution_count": 67,
   "id": "7a1cb407-ee72-414d-b781-16fed6f203b9",
   "metadata": {},
   "outputs": [
    {
     "data": {
      "text/plain": [
       "1"
      ]
     },
     "execution_count": 67,
     "metadata": {},
     "output_type": "execute_result"
    }
   ],
   "source": [
    "min(my_list)"
   ]
  },
  {
   "cell_type": "code",
   "execution_count": 69,
   "id": "441e232a-e79b-4609-974e-e667f9943895",
   "metadata": {},
   "outputs": [
    {
     "data": {
      "text/plain": [
       "9"
      ]
     },
     "execution_count": 69,
     "metadata": {},
     "output_type": "execute_result"
    }
   ],
   "source": [
    "max(my_list)"
   ]
  },
  {
   "cell_type": "markdown",
   "id": "4184ea05-8406-4f34-a743-81f047718ab3",
   "metadata": {},
   "source": [
    "### Functions inside functions"
   ]
  },
  {
   "cell_type": "code",
   "execution_count": 71,
   "id": "88a8e7d1-a4db-4dc6-ba85-1a7d6f728acd",
   "metadata": {},
   "outputs": [
    {
     "name": "stdout",
     "output_type": "stream",
     "text": [
      "10\n"
     ]
    }
   ],
   "source": [
    "def plus(a,b):\n",
    "    print (a+b)\n",
    "\n",
    "\n",
    "plus(min(my_list), max(my_list))"
   ]
  },
  {
   "cell_type": "markdown",
   "id": "0fafd37e-2f11-42ce-94d3-c9492159f16e",
   "metadata": {},
   "source": [
    "### Lambda functions - one time use"
   ]
  },
  {
   "cell_type": "code",
   "execution_count": 73,
   "id": "63781472-361a-42b8-ae7d-d6ab878e596e",
   "metadata": {},
   "outputs": [
    {
     "data": {
      "text/plain": [
       "[2, 8, 12, 14, 18, 18, 18]"
      ]
     },
     "execution_count": 73,
     "metadata": {},
     "output_type": "execute_result"
    }
   ],
   "source": [
    "list(map(lambda x: x * 2, my_list))"
   ]
  },
  {
   "cell_type": "code",
   "execution_count": 75,
   "id": "4fe4df42-3492-4640-b2be-934020225876",
   "metadata": {},
   "outputs": [
    {
     "data": {
      "text/plain": [
       "[1, 4, 6, 7, 9, 9, 9]"
      ]
     },
     "execution_count": 75,
     "metadata": {},
     "output_type": "execute_result"
    }
   ],
   "source": [
    "my_list"
   ]
  },
  {
   "cell_type": "code",
   "execution_count": 77,
   "id": "20a9a5fa-04b6-4be0-8d1c-20404f471500",
   "metadata": {},
   "outputs": [
    {
     "data": {
      "text/plain": [
       "<map at 0x1ec5eedb0d0>"
      ]
     },
     "execution_count": 77,
     "metadata": {},
     "output_type": "execute_result"
    }
   ],
   "source": [
    "map(lambda x: x * 2, my_list)"
   ]
  },
  {
   "cell_type": "code",
   "execution_count": 81,
   "id": "8ba7f8d1-631c-4b7c-9d48-b9f5de887457",
   "metadata": {},
   "outputs": [
    {
     "data": {
      "text/plain": [
       "{2, 8, 12, 14, 18}"
      ]
     },
     "execution_count": 81,
     "metadata": {},
     "output_type": "execute_result"
    }
   ],
   "source": [
    "set(map(lambda x: x * 2, my_list))"
   ]
  },
  {
   "cell_type": "markdown",
   "id": "cc23fd67-9e09-4e08-8b9e-acbb6c8992b7",
   "metadata": {},
   "source": [
    "## Booleans + conditionals\n",
    "#### very useful in and out of functions"
   ]
  },
  {
   "cell_type": "code",
   "execution_count": 101,
   "id": "5edc6998-08b7-4b5d-9d56-65a39a6e8c79",
   "metadata": {},
   "outputs": [],
   "source": [
    "def divides_by_three(num):\n",
    "    if num % 3 == 0:\n",
    "        return True\n",
    "    else:\n",
    "        return False"
   ]
  },
  {
   "cell_type": "code",
   "execution_count": 103,
   "id": "5f5c244d-0d92-4035-85fe-b5d15f324286",
   "metadata": {},
   "outputs": [
    {
     "data": {
      "text/plain": [
       "False"
      ]
     },
     "execution_count": 103,
     "metadata": {},
     "output_type": "execute_result"
    }
   ],
   "source": [
    "divides_by_three(4)"
   ]
  },
  {
   "cell_type": "code",
   "execution_count": 87,
   "id": "0fa08da1-c350-4d08-8df2-b93e251d99cd",
   "metadata": {},
   "outputs": [
    {
     "data": {
      "text/plain": [
       "1"
      ]
     },
     "execution_count": 87,
     "metadata": {},
     "output_type": "execute_result"
    }
   ],
   "source": [
    "4 % 3"
   ]
  },
  {
   "cell_type": "code",
   "execution_count": 89,
   "id": "d95378f4-35b7-4442-bf20-a54b04b2dc8b",
   "metadata": {},
   "outputs": [],
   "source": [
    "x = 15"
   ]
  },
  {
   "cell_type": "code",
   "execution_count": 91,
   "id": "7bee32be-665f-455f-9605-ea2f30945458",
   "metadata": {},
   "outputs": [
    {
     "data": {
      "text/plain": [
       "True"
      ]
     },
     "execution_count": 91,
     "metadata": {},
     "output_type": "execute_result"
    }
   ],
   "source": [
    "divides_by_three(x)"
   ]
  },
  {
   "cell_type": "code",
   "execution_count": 107,
   "id": "456c2f8d-f7a0-4083-a243-3f6a65358229",
   "metadata": {},
   "outputs": [
    {
     "data": {
      "text/plain": [
       "[1, 4, 6, 7, 9, 9, 9]"
      ]
     },
     "execution_count": 107,
     "metadata": {},
     "output_type": "execute_result"
    }
   ],
   "source": [
    "my_list"
   ]
  },
  {
   "cell_type": "code",
   "execution_count": 105,
   "id": "3f5de9c8-2391-4e79-9653-bfe5e7706d38",
   "metadata": {},
   "outputs": [
    {
     "name": "stdout",
     "output_type": "stream",
     "text": [
      "6\n",
      "9\n",
      "9\n",
      "9\n"
     ]
    }
   ],
   "source": [
    "for x in my_list:\n",
    "    if divides_by_three(x):\n",
    "        print(x)"
   ]
  },
  {
   "cell_type": "code",
   "execution_count": 109,
   "id": "6f63c17d-767e-4c56-9588-eee6cc838c2e",
   "metadata": {},
   "outputs": [
    {
     "name": "stdout",
     "output_type": "stream",
     "text": [
      "9\n"
     ]
    }
   ],
   "source": [
    "print(x)"
   ]
  },
  {
   "cell_type": "code",
   "execution_count": 111,
   "id": "4640ef06-8c81-4b24-a14f-9ac473d17832",
   "metadata": {},
   "outputs": [
    {
     "data": {
      "text/plain": [
       "True"
      ]
     },
     "execution_count": 111,
     "metadata": {},
     "output_type": "execute_result"
    }
   ],
   "source": [
    "3.0 == 3"
   ]
  },
  {
   "cell_type": "code",
   "execution_count": 113,
   "id": "d57806b8-d4f3-4c9a-b16d-771014a29c4c",
   "metadata": {},
   "outputs": [
    {
     "data": {
      "text/plain": [
       "False"
      ]
     },
     "execution_count": 113,
     "metadata": {},
     "output_type": "execute_result"
    }
   ],
   "source": [
    "3 == '3'"
   ]
  },
  {
   "cell_type": "code",
   "execution_count": 115,
   "id": "087481a9-5ca3-4e7a-b0d9-874569a7390d",
   "metadata": {},
   "outputs": [
    {
     "data": {
      "text/plain": [
       "True"
      ]
     },
     "execution_count": 115,
     "metadata": {},
     "output_type": "execute_result"
    }
   ],
   "source": [
    "True or True and False # True or (True and False) "
   ]
  },
  {
   "cell_type": "markdown",
   "id": "85eeab40-c4f2-457a-bff5-e73fb4819d43",
   "metadata": {},
   "source": [
    "True and False/True or False truth tables:\n",
    "https://realpython.com/python-boolean/#the-and-boolean-operator"
   ]
  },
  {
   "cell_type": "code",
   "execution_count": 119,
   "id": "91b78e12-65a3-4ad2-834b-e68b4b8b0de9",
   "metadata": {},
   "outputs": [
    {
     "data": {
      "text/plain": [
       "[1, 4, 6, 7, 9, 9, 9]"
      ]
     },
     "execution_count": 119,
     "metadata": {},
     "output_type": "execute_result"
    }
   ],
   "source": [
    "my_list"
   ]
  },
  {
   "cell_type": "code",
   "execution_count": 117,
   "id": "a7406954-d724-4cf6-b952-b63b128f561b",
   "metadata": {},
   "outputs": [
    {
     "name": "stdout",
     "output_type": "stream",
     "text": [
      "6\n"
     ]
    }
   ],
   "source": [
    "for x in my_list:\n",
    "    if divides_by_three(x) and x%2==0:\n",
    "        print(x)"
   ]
  },
  {
   "cell_type": "code",
   "execution_count": 121,
   "id": "574a05d9-af41-45e1-9655-5e128d42ec7a",
   "metadata": {},
   "outputs": [
    {
     "name": "stdout",
     "output_type": "stream",
     "text": [
      "4\n",
      "6\n",
      "9\n",
      "9\n",
      "9\n"
     ]
    }
   ],
   "source": [
    "for x in my_list:\n",
    "    if divides_by_three(x) or x%2==0:\n",
    "        print(x)"
   ]
  },
  {
   "cell_type": "code",
   "execution_count": null,
   "id": "70bb0cd3-30ac-408a-9cda-ff409f1ce430",
   "metadata": {},
   "outputs": [],
   "source": []
  },
  {
   "cell_type": "code",
   "execution_count": null,
   "id": "2635e7cd-6624-4b16-8461-647414ce032a",
   "metadata": {},
   "outputs": [],
   "source": []
  },
  {
   "cell_type": "code",
   "execution_count": null,
   "id": "f1e4f12a-60a4-4982-88e1-606a5dfa66b9",
   "metadata": {},
   "outputs": [],
   "source": []
  },
  {
   "cell_type": "code",
   "execution_count": null,
   "id": "c420eb8f-b028-49f9-861f-b5900f1bdb07",
   "metadata": {},
   "outputs": [],
   "source": []
  }
 ],
 "metadata": {
  "kernelspec": {
   "display_name": "Python [conda env:base] *",
   "language": "python",
   "name": "conda-base-py"
  },
  "language_info": {
   "codemirror_mode": {
    "name": "ipython",
    "version": 3
   },
   "file_extension": ".py",
   "mimetype": "text/x-python",
   "name": "python",
   "nbconvert_exporter": "python",
   "pygments_lexer": "ipython3",
   "version": "3.12.7"
  },
  "widgets": {
   "application/vnd.jupyter.widget-state+json": {
    "state": {},
    "version_major": 2,
    "version_minor": 0
   }
  }
 },
 "nbformat": 4,
 "nbformat_minor": 5
}
