{
 "cells": [
  {
   "cell_type": "markdown",
   "id": "f635b473-3dcd-4397-a532-4f3922a6c225",
   "metadata": {},
   "source": [
    "## Workshop Logistics: \n",
    "#### Github\n",
    "#### WhatsApp group\n",
    "#### Volunteers"
   ]
  },
  {
   "cell_type": "markdown",
   "id": "25e7ab9c-9dbe-48a9-b7fb-1621f81482df",
   "metadata": {},
   "source": [
    "## Let's talk about data (primitive)!"
   ]
  },
  {
   "cell_type": "code",
   "execution_count": 2,
   "id": "8e395870-127c-49f3-8fab-611ccb496c69",
   "metadata": {},
   "outputs": [
    {
     "data": {
      "text/plain": [
       "3"
      ]
     },
     "execution_count": 2,
     "metadata": {},
     "output_type": "execute_result"
    }
   ],
   "source": [
    "3"
   ]
  },
  {
   "cell_type": "code",
   "execution_count": 8,
   "id": "2643ec6f-7d7c-4578-bdf3-33cf997990cc",
   "metadata": {},
   "outputs": [
    {
     "data": {
      "text/plain": [
       "'3'"
      ]
     },
     "execution_count": 8,
     "metadata": {},
     "output_type": "execute_result"
    }
   ],
   "source": [
    "\"3\""
   ]
  },
  {
   "cell_type": "code",
   "execution_count": 4,
   "id": "0e3a49ca-db3a-4c9d-9a13-c828788e87b4",
   "metadata": {},
   "outputs": [
    {
     "data": {
      "text/plain": [
       "8"
      ]
     },
     "execution_count": 4,
     "metadata": {},
     "output_type": "execute_result"
    }
   ],
   "source": [
    "3+5"
   ]
  },
  {
   "cell_type": "code",
   "execution_count": 6,
   "id": "19913a19-58db-4b22-a797-b9a8ed0426a0",
   "metadata": {},
   "outputs": [
    {
     "data": {
      "text/plain": [
       "'Danielle'"
      ]
     },
     "execution_count": 6,
     "metadata": {},
     "output_type": "execute_result"
    }
   ],
   "source": [
    "\"Danielle\""
   ]
  },
  {
   "cell_type": "code",
   "execution_count": 12,
   "id": "449761bb-b8a1-42f1-bdc4-98b0a382ff0f",
   "metadata": {},
   "outputs": [
    {
     "data": {
      "text/plain": [
       "'Danielle'"
      ]
     },
     "execution_count": 12,
     "metadata": {},
     "output_type": "execute_result"
    }
   ],
   "source": [
    "'Danielle'"
   ]
  },
  {
   "cell_type": "code",
   "execution_count": 10,
   "id": "f1479c0b-ad18-4e26-b253-9301b29f2c15",
   "metadata": {},
   "outputs": [
    {
     "data": {
      "text/plain": [
       "'DataOperations'"
      ]
     },
     "execution_count": 10,
     "metadata": {},
     "output_type": "execute_result"
    }
   ],
   "source": [
    "\"Data\" + \"Operations\""
   ]
  },
  {
   "cell_type": "code",
   "execution_count": 14,
   "id": "14b9b933-929d-4c87-836e-1534128e3315",
   "metadata": {},
   "outputs": [
    {
     "data": {
      "text/plain": [
       "True"
      ]
     },
     "execution_count": 14,
     "metadata": {},
     "output_type": "execute_result"
    }
   ],
   "source": [
    "True "
   ]
  },
  {
   "cell_type": "code",
   "execution_count": 16,
   "id": "021c45fe-b7cb-41ae-94a9-2181477c5aea",
   "metadata": {},
   "outputs": [
    {
     "data": {
      "text/plain": [
       "False"
      ]
     },
     "execution_count": 16,
     "metadata": {},
     "output_type": "execute_result"
    }
   ],
   "source": [
    "False"
   ]
  },
  {
   "cell_type": "code",
   "execution_count": 18,
   "id": "736e9e15-e1c6-45ed-a7f3-eb6b8b5afb2b",
   "metadata": {},
   "outputs": [
    {
     "data": {
      "text/plain": [
       "2"
      ]
     },
     "execution_count": 18,
     "metadata": {},
     "output_type": "execute_result"
    }
   ],
   "source": [
    "True + True"
   ]
  },
  {
   "cell_type": "markdown",
   "id": "7a281df6-5824-4cb3-ac4d-1c6fef6d380a",
   "metadata": {},
   "source": [
    "## Now lets start saving data"
   ]
  },
  {
   "cell_type": "code",
   "execution_count": 20,
   "id": "7a8951b3-1206-4f65-b080-b072effbeef4",
   "metadata": {},
   "outputs": [
    {
     "data": {
      "text/plain": [
       "15"
      ]
     },
     "execution_count": 20,
     "metadata": {},
     "output_type": "execute_result"
    }
   ],
   "source": [
    "#integer\n",
    "a = 10\n",
    "b = 5\n",
    "\n",
    "a+b"
   ]
  },
  {
   "cell_type": "code",
   "execution_count": 22,
   "id": "5620213a-031d-4f26-903a-6af5a8ce9946",
   "metadata": {},
   "outputs": [
    {
     "data": {
      "text/plain": [
       "16.0"
      ]
     },
     "execution_count": 22,
     "metadata": {},
     "output_type": "execute_result"
    }
   ],
   "source": [
    "#float\n",
    "a = 10.5\n",
    "c = 5.5\n",
    "\n",
    "a+c"
   ]
  },
  {
   "cell_type": "code",
   "execution_count": 24,
   "id": "e4f02912-e17e-43e2-aa3b-e9f4227a0f00",
   "metadata": {},
   "outputs": [
    {
     "data": {
      "text/plain": [
       "15.5"
      ]
     },
     "execution_count": 24,
     "metadata": {},
     "output_type": "execute_result"
    }
   ],
   "source": [
    "a+b"
   ]
  },
  {
   "cell_type": "code",
   "execution_count": 26,
   "id": "2d822191-ba19-4338-9eca-ae30d4d45799",
   "metadata": {},
   "outputs": [
    {
     "data": {
      "text/plain": [
       "'abcdef'"
      ]
     },
     "execution_count": 26,
     "metadata": {},
     "output_type": "execute_result"
    }
   ],
   "source": [
    "#string\n",
    "c = \"abc\"\n",
    "d = \"def\"\n",
    "\n",
    "c+d"
   ]
  },
  {
   "cell_type": "code",
   "execution_count": 28,
   "id": "39a5c095-25dc-46ce-ac4c-632e66aa913b",
   "metadata": {},
   "outputs": [
    {
     "ename": "TypeError",
     "evalue": "unsupported operand type(s) for +: 'float' and 'str'",
     "output_type": "error",
     "traceback": [
      "\u001b[1;31m---------------------------------------------------------------------------\u001b[0m",
      "\u001b[1;31mTypeError\u001b[0m                                 Traceback (most recent call last)",
      "Cell \u001b[1;32mIn[28], line 1\u001b[0m\n\u001b[1;32m----> 1\u001b[0m a\u001b[38;5;241m+\u001b[39mc\n",
      "\u001b[1;31mTypeError\u001b[0m: unsupported operand type(s) for +: 'float' and 'str'"
     ]
    }
   ],
   "source": [
    "a+c"
   ]
  },
  {
   "cell_type": "code",
   "execution_count": 30,
   "id": "3782f487-9fd5-4d91-9201-c248f827706e",
   "metadata": {},
   "outputs": [
    {
     "data": {
      "text/plain": [
       "False"
      ]
     },
     "execution_count": 30,
     "metadata": {},
     "output_type": "execute_result"
    }
   ],
   "source": [
    "a < b"
   ]
  },
  {
   "cell_type": "code",
   "execution_count": 32,
   "id": "3696bb00-c2d8-407c-aa71-d192fbba239d",
   "metadata": {},
   "outputs": [
    {
     "data": {
      "text/plain": [
       "True"
      ]
     },
     "execution_count": 32,
     "metadata": {},
     "output_type": "execute_result"
    }
   ],
   "source": [
    "c < d"
   ]
  },
  {
   "cell_type": "code",
   "execution_count": 34,
   "id": "b4a42bc0-4d33-49eb-b587-40f942e937b3",
   "metadata": {},
   "outputs": [
    {
     "data": {
      "text/plain": [
       "True"
      ]
     },
     "execution_count": 34,
     "metadata": {},
     "output_type": "execute_result"
    }
   ],
   "source": [
    "'q' < 'z'"
   ]
  },
  {
   "cell_type": "code",
   "execution_count": 36,
   "id": "76f69a16-4ad1-4c91-a7c9-4bda6eab777e",
   "metadata": {},
   "outputs": [
    {
     "data": {
      "text/plain": [
       "False"
      ]
     },
     "execution_count": 36,
     "metadata": {},
     "output_type": "execute_result"
    }
   ],
   "source": [
    "e = True\n",
    "f = False\n",
    "g = True\n",
    "\n",
    "e and f"
   ]
  },
  {
   "cell_type": "code",
   "execution_count": 38,
   "id": "7aa4dcd0-717a-4b34-b225-df2f926fc5b8",
   "metadata": {},
   "outputs": [
    {
     "data": {
      "text/plain": [
       "True"
      ]
     },
     "execution_count": 38,
     "metadata": {},
     "output_type": "execute_result"
    }
   ],
   "source": [
    "e or f"
   ]
  },
  {
   "cell_type": "markdown",
   "id": "a32902f1-899e-471b-b663-cb8af363b4ec",
   "metadata": {},
   "source": [
    "### Extra explanation of boolean algebra: https://www.codecademy.com/resources/blog/what-is-boolean-logic"
   ]
  },
  {
   "cell_type": "code",
   "execution_count": null,
   "id": "7a6a256f-d1df-4bbc-8f91-a75628272d42",
   "metadata": {},
   "outputs": [],
   "source": []
  },
  {
   "cell_type": "markdown",
   "id": "b7db07ed-7aa6-4289-883a-cb5abe1358b0",
   "metadata": {},
   "source": [
    "### Difference between AI coding and Google-assisted coding - example:\n",
    "AI tends to write longer code than necessary. For example it checks the data isn't empty, if you know for sure data isn't empty this is not needed.\n",
    "It can do things like write a whole function just to add a column to a dataframe (you'll know what this is later on) when sometimes all that's needed is just something like:\n",
    "\n",
    "df['new_column'] = df['data'].apply(lambda x: func())"
   ]
  },
  {
   "cell_type": "code",
   "execution_count": null,
   "id": "c9259398-b96a-4201-a642-95ee67dd77e1",
   "metadata": {},
   "outputs": [],
   "source": []
  }
 ],
 "metadata": {
  "kernelspec": {
   "display_name": "Python [conda env:base] *",
   "language": "python",
   "name": "conda-base-py"
  },
  "language_info": {
   "codemirror_mode": {
    "name": "ipython",
    "version": 3
   },
   "file_extension": ".py",
   "mimetype": "text/x-python",
   "name": "python",
   "nbconvert_exporter": "python",
   "pygments_lexer": "ipython3",
   "version": "3.12.7"
  },
  "widgets": {
   "application/vnd.jupyter.widget-state+json": {
    "state": {},
    "version_major": 2,
    "version_minor": 0
   }
  }
 },
 "nbformat": 4,
 "nbformat_minor": 5
}
