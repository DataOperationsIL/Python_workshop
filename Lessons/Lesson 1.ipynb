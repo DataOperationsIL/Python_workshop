{
 "cells": [
  {
   "cell_type": "markdown",
   "id": "f635b473-3dcd-4397-a532-4f3922a6c225",
   "metadata": {},
   "source": [
    "## Workshop Logistics: \n",
    "#### Github\n",
    "#### WhatsApp group\n",
    "#### Volunteers"
   ]
  },
  {
   "cell_type": "markdown",
   "id": "25e7ab9c-9dbe-48a9-b7fb-1621f81482df",
   "metadata": {},
   "source": [
    "## Let's talk about data (primitive)!"
   ]
  },
  {
   "cell_type": "code",
   "execution_count": null,
   "id": "8e395870-127c-49f3-8fab-611ccb496c69",
   "metadata": {},
   "outputs": [],
   "source": [
    "3+5"
   ]
  },
  {
   "cell_type": "code",
   "execution_count": null,
   "id": "19913a19-58db-4b22-a797-b9a8ed0426a0",
   "metadata": {},
   "outputs": [],
   "source": [
    "\"Danielle\""
   ]
  },
  {
   "cell_type": "code",
   "execution_count": null,
   "id": "14b9b933-929d-4c87-836e-1534128e3315",
   "metadata": {},
   "outputs": [],
   "source": [
    "True "
   ]
  },
  {
   "cell_type": "code",
   "execution_count": null,
   "id": "021c45fe-b7cb-41ae-94a9-2181477c5aea",
   "metadata": {},
   "outputs": [],
   "source": [
    "False"
   ]
  },
  {
   "cell_type": "code",
   "execution_count": null,
   "id": "736e9e15-e1c6-45ed-a7f3-eb6b8b5afb2b",
   "metadata": {},
   "outputs": [],
   "source": [
    "True + True"
   ]
  },
  {
   "cell_type": "markdown",
   "id": "7a281df6-5824-4cb3-ac4d-1c6fef6d380a",
   "metadata": {},
   "source": [
    "## Now lets start saving data"
   ]
  },
  {
   "cell_type": "code",
   "execution_count": null,
   "id": "7a8951b3-1206-4f65-b080-b072effbeef4",
   "metadata": {},
   "outputs": [],
   "source": [
    "a = 10\n",
    "b = 5\n",
    "\n",
    "a+b"
   ]
  },
  {
   "cell_type": "code",
   "execution_count": null,
   "id": "5620213a-031d-4f26-903a-6af5a8ce9946",
   "metadata": {},
   "outputs": [],
   "source": [
    "a = 10.5\n",
    "c = 5.5\n",
    "\n",
    "a+c"
   ]
  },
  {
   "cell_type": "code",
   "execution_count": null,
   "id": "e4f02912-e17e-43e2-aa3b-e9f4227a0f00",
   "metadata": {},
   "outputs": [],
   "source": [
    "a+b"
   ]
  },
  {
   "cell_type": "code",
   "execution_count": null,
   "id": "2d822191-ba19-4338-9eca-ae30d4d45799",
   "metadata": {},
   "outputs": [],
   "source": [
    "c = \"abc\"\n",
    "d = \"def\"\n",
    "\n",
    "c+d"
   ]
  },
  {
   "cell_type": "code",
   "execution_count": null,
   "id": "39a5c095-25dc-46ce-ac4c-632e66aa913b",
   "metadata": {},
   "outputs": [],
   "source": [
    "a+c"
   ]
  },
  {
   "cell_type": "code",
   "execution_count": null,
   "id": "3782f487-9fd5-4d91-9201-c248f827706e",
   "metadata": {},
   "outputs": [],
   "source": [
    "a < b"
   ]
  },
  {
   "cell_type": "code",
   "execution_count": null,
   "id": "3696bb00-c2d8-407c-aa71-d192fbba239d",
   "metadata": {},
   "outputs": [],
   "source": [
    "c < d"
   ]
  },
  {
   "cell_type": "code",
   "execution_count": null,
   "id": "76f69a16-4ad1-4c91-a7c9-4bda6eab777e",
   "metadata": {},
   "outputs": [],
   "source": [
    "e = True\n",
    "f = False\n",
    "g = True\n",
    "\n",
    "e and f"
   ]
  },
  {
   "cell_type": "code",
   "execution_count": null,
   "id": "7aa4dcd0-717a-4b34-b225-df2f926fc5b8",
   "metadata": {},
   "outputs": [],
   "source": [
    "e or f"
   ]
  },
  {
   "cell_type": "markdown",
   "id": "a32902f1-899e-471b-b663-cb8af363b4ec",
   "metadata": {},
   "source": [
    "### Extra explanation of boolean algebra: https://www.codecademy.com/resources/blog/what-is-boolean-logic"
   ]
  },
  {
   "cell_type": "code",
   "execution_count": null,
   "id": "7a6a256f-d1df-4bbc-8f91-a75628272d42",
   "metadata": {},
   "outputs": [],
   "source": []
  },
  {
   "cell_type": "markdown",
   "id": "b7db07ed-7aa6-4289-883a-cb5abe1358b0",
   "metadata": {},
   "source": [
    "### Difference between AI coding and Google-assisted coding - example:\n",
    "AI tends to write longer code than necessary. For example it checks the data isn't empty, if you know for sure data isn't empty this is not needed.\n",
    "It can do things like write a whole function just to add a column to a dataframe (you'll know what this is later on) when sometimes all that's needed is just something like:\n",
    "\n",
    "df['new_column'] = df['data'].apply(lambda x: func())"
   ]
  },
  {
   "cell_type": "code",
   "execution_count": null,
   "id": "c9259398-b96a-4201-a642-95ee67dd77e1",
   "metadata": {},
   "outputs": [],
   "source": []
  },
  {
   "cell_type": "markdown",
   "id": "19a7a803-c6d6-43f9-8aef-e63e8f7d6b6c",
   "metadata": {},
   "source": [
    "## Next Lessons topics"
   ]
  },
  {
   "cell_type": "markdown",
   "id": "955e3a22-d347-4263-b129-b99c1cdf08ea",
   "metadata": {},
   "source": [
    "### Lists"
   ]
  },
  {
   "cell_type": "code",
   "execution_count": null,
   "id": "40c7cd44-358a-44e4-802a-0e40773c9864",
   "metadata": {},
   "outputs": [],
   "source": [
    "fruits = [\"apple\", \"banana\", \"cherry\"]\n",
    "print(fruits[1]) "
   ]
  },
  {
   "cell_type": "code",
   "execution_count": null,
   "id": "813ea294-affa-4352-a29b-a99acdf2dec4",
   "metadata": {},
   "outputs": [],
   "source": [
    "special_fruit = fruits[2]"
   ]
  },
  {
   "cell_type": "code",
   "execution_count": null,
   "id": "06451a60-71e2-44a4-b70b-b3b331fc61ce",
   "metadata": {},
   "outputs": [],
   "source": [
    "fruits.append(\"orange\")  "
   ]
  },
  {
   "cell_type": "code",
   "execution_count": null,
   "id": "656d90a7-b017-438f-8805-943945bdf96c",
   "metadata": {},
   "outputs": [],
   "source": [
    "fruits"
   ]
  },
  {
   "cell_type": "code",
   "execution_count": null,
   "id": "cd8d02d9-df00-4b95-bec0-cf38261b9f22",
   "metadata": {},
   "outputs": [],
   "source": [
    "numbers = [1, 2, 3, 4]\n",
    "squares = [num ** 2 for num in numbers]  \n",
    "\n",
    "squares"
   ]
  },
  {
   "cell_type": "markdown",
   "id": "22bd091f-d248-47ad-abf7-09047e88d0d1",
   "metadata": {},
   "source": [
    "### Loops"
   ]
  },
  {
   "cell_type": "code",
   "execution_count": null,
   "id": "fbe1a977-daf1-4227-a674-0d6fcd27a919",
   "metadata": {},
   "outputs": [],
   "source": [
    "for fruit in fruits:\n",
    "    print (fruit)"
   ]
  },
  {
   "cell_type": "code",
   "execution_count": null,
   "id": "00a7ae52-32b0-48f2-88b4-a6bf50d9e8ed",
   "metadata": {},
   "outputs": [],
   "source": [
    "for x in fruits:\n",
    "    print (x)"
   ]
  },
  {
   "cell_type": "code",
   "execution_count": null,
   "id": "fa073302-a4a1-4b7e-9f1b-039cd4633efb",
   "metadata": {},
   "outputs": [],
   "source": [
    "for x in range(10):\n",
    "    print(x)"
   ]
  },
  {
   "cell_type": "code",
   "execution_count": null,
   "id": "766c86d2-5f19-4eee-ac17-cf129827282a",
   "metadata": {},
   "outputs": [],
   "source": [
    "3 % 2"
   ]
  },
  {
   "cell_type": "code",
   "execution_count": null,
   "id": "f86ffb23-e41a-404d-84a1-cd42e88bf72e",
   "metadata": {},
   "outputs": [],
   "source": [
    "3 % 2 == 0"
   ]
  },
  {
   "cell_type": "code",
   "execution_count": null,
   "id": "d9e0e16d-7d53-4353-a9a0-ac5c7440aa17",
   "metadata": {},
   "outputs": [],
   "source": [
    "4 % 2 == 0"
   ]
  },
  {
   "cell_type": "code",
   "execution_count": null,
   "id": "ee035b50-faf7-4e60-a250-9c733e7fdd90",
   "metadata": {},
   "outputs": [],
   "source": [
    "evens = [x for x in range(10) if x % 2 == 0]  \n",
    "\n",
    "evens"
   ]
  },
  {
   "cell_type": "code",
   "execution_count": null,
   "id": "b04a5aa7-9cf9-4baf-80dc-41a428e8ec01",
   "metadata": {},
   "outputs": [],
   "source": []
  }
 ],
 "metadata": {
  "kernelspec": {
   "display_name": "Python [conda env:base] *",
   "language": "python",
   "name": "conda-base-py"
  },
  "language_info": {
   "codemirror_mode": {
    "name": "ipython",
    "version": 3
   },
   "file_extension": ".py",
   "mimetype": "text/x-python",
   "name": "python",
   "nbconvert_exporter": "python",
   "pygments_lexer": "ipython3",
   "version": "3.12.7"
  },
  "widgets": {
   "application/vnd.jupyter.widget-state+json": {
    "state": {},
    "version_major": 2,
    "version_minor": 0
   }
  }
 },
 "nbformat": 4,
 "nbformat_minor": 5
}
