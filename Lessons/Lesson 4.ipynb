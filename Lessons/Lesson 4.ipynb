{
 "cells": [
  {
   "cell_type": "markdown",
   "id": "36da8c83-4787-4284-9919-f84024a7ab47",
   "metadata": {},
   "source": [
    "# Recap from last lesson"
   ]
  },
  {
   "cell_type": "code",
   "execution_count": 1,
   "id": "07b09fe7-41b5-4374-a68d-7a951d08b072",
   "metadata": {},
   "outputs": [],
   "source": [
    "my_list = [1, 4, 6, 7, 9, 9, 9]"
   ]
  },
  {
   "cell_type": "code",
   "execution_count": 3,
   "id": "b8fb7a2c-de39-4c5f-8237-ea245e4ce178",
   "metadata": {},
   "outputs": [],
   "source": [
    "def divides_by_three(num):\n",
    "    if num % 3 == 0:\n",
    "        return True\n",
    "    else:\n",
    "        return False"
   ]
  },
  {
   "cell_type": "code",
   "execution_count": 4,
   "id": "6033f7cb-f183-45a5-b587-5007a500a7e6",
   "metadata": {},
   "outputs": [
    {
     "data": {
      "text/plain": [
       "True"
      ]
     },
     "execution_count": 4,
     "metadata": {},
     "output_type": "execute_result"
    }
   ],
   "source": [
    "x = 15\n",
    "divides_by_three(x)"
   ]
  },
  {
   "cell_type": "code",
   "execution_count": 5,
   "id": "02e5ae43-ae75-4c35-80b4-5d3f45284a70",
   "metadata": {},
   "outputs": [
    {
     "name": "stdout",
     "output_type": "stream",
     "text": [
      "6\n",
      "9\n",
      "9\n",
      "9\n"
     ]
    }
   ],
   "source": [
    "for x in my_list:\n",
    "    if divides_by_three(x):\n",
    "        print(x)"
   ]
  },
  {
   "cell_type": "code",
   "execution_count": 6,
   "id": "d0a93e05-7b5f-4f11-b874-226d5e08c5fb",
   "metadata": {},
   "outputs": [
    {
     "name": "stdout",
     "output_type": "stream",
     "text": [
      "6\n"
     ]
    }
   ],
   "source": [
    "for x in my_list:\n",
    "    if divides_by_three(x) and x%2==0:\n",
    "        print(x)"
   ]
  },
  {
   "cell_type": "code",
   "execution_count": 7,
   "id": "3598907a-aa3b-4038-8650-172ab1694bfe",
   "metadata": {},
   "outputs": [
    {
     "name": "stdout",
     "output_type": "stream",
     "text": [
      "4\n",
      "6\n",
      "9\n",
      "9\n",
      "9\n"
     ]
    }
   ],
   "source": [
    "for y in my_list:\n",
    "    if divides_by_three(y) or y%2==0:\n",
    "        print(y)"
   ]
  },
  {
   "cell_type": "markdown",
   "id": "328d467f-1ea4-49d1-b09e-35c8e6facced",
   "metadata": {},
   "source": [
    "# Let's solve a problem together\n",
    "### My approach \n",
    "1) understand the problem using a simple example\n",
    "2) define the \"what needs to happen\", use also less simple and non trivial examples\n",
    "3) write it into pseudocode - i usually start with input and the needed output and then start going back\n",
    "4) start writing code\n",
    "\n"
   ]
  },
  {
   "cell_type": "markdown",
   "id": "2877f11e-e245-475f-acf8-590ed226c4a2",
   "metadata": {},
   "source": [
    "### Problem from Lists tutorial:\n",
    "\n",
    "We're using lists to record people who attended our party and what order they arrived in. For example, the following list represents a party with 7 guests, in which Adela showed up first and Ford was the last to arrive:\n",
    "\n",
    "party_attendees = ['Adela', 'Fleda', 'Owen', 'May', 'Mona', 'Gilbert', 'Ford']\n",
    "\n",
    "A guest is considered 'fashionably late' if they arrived after at least half of the party's guests. However, they must not be the very last guest (that's taking it too far). In the above example, Mona and Gilbert are the only guests who were fashionably late.\n",
    "\n",
    "Complete the function below which takes a list of party attendees as well as a person, and tells us whether that person is fashionably late."
   ]
  },
  {
   "cell_type": "code",
   "execution_count": 15,
   "id": "d01bed2b-2550-45f9-8cb1-04b39ed45d7f",
   "metadata": {},
   "outputs": [],
   "source": [
    "def fashionably_late(arrivals, name):\n",
    "    \"\"\"Given an ordered list of arrivals to the party and a name, return whether the guest with that\n",
    "    name was fashionably late.\n",
    "    \"\"\"\n",
    "    pass"
   ]
  },
  {
   "cell_type": "code",
   "execution_count": 17,
   "id": "768c5184-cf39-41df-b41e-c08c19233593",
   "metadata": {},
   "outputs": [],
   "source": [
    "a1 = ['Adela', 'Fleda', 'Owen', 'May', 'Mona', 'Gilbert', 'Ford'] #mona + gilbert\n",
    "a2 = ['George', 'Paul', 'Ringo', 'John'] #answer: rino"
   ]
  },
  {
   "cell_type": "code",
   "execution_count": 19,
   "id": "470bedd1-de3c-4a07-8c2e-293930c868c4",
   "metadata": {},
   "outputs": [
    {
     "data": {
      "text/plain": [
       "7"
      ]
     },
     "execution_count": 19,
     "metadata": {},
     "output_type": "execute_result"
    }
   ],
   "source": [
    "len(a1)"
   ]
  },
  {
   "cell_type": "code",
   "execution_count": 21,
   "id": "be794c59-0ec6-4735-8d24-0f40257b862c",
   "metadata": {},
   "outputs": [
    {
     "data": {
      "text/plain": [
       "'Ford'"
      ]
     },
     "execution_count": 21,
     "metadata": {},
     "output_type": "execute_result"
    }
   ],
   "source": [
    "a1[len(a1)-1] #last person who isn't fashionably late\n",
    "a1[-1]"
   ]
  },
  {
   "cell_type": "code",
   "execution_count": 23,
   "id": "94993190-aedb-4606-914b-d5d9673c45f5",
   "metadata": {},
   "outputs": [
    {
     "data": {
      "text/plain": [
       "3.5"
      ]
     },
     "execution_count": 23,
     "metadata": {},
     "output_type": "execute_result"
    }
   ],
   "source": [
    "len(a1)/2 #greater than this is an index for fashionably late "
   ]
  },
  {
   "cell_type": "code",
   "execution_count": 25,
   "id": "444d7179-2383-46e2-a27f-397cbd735f84",
   "metadata": {},
   "outputs": [
    {
     "data": {
      "text/plain": [
       "2.0"
      ]
     },
     "execution_count": 25,
     "metadata": {},
     "output_type": "execute_result"
    }
   ],
   "source": [
    "len(a2)/2"
   ]
  },
  {
   "cell_type": "code",
   "execution_count": 27,
   "id": "a82aecc3-876d-4bf6-a57e-362f85082bb2",
   "metadata": {},
   "outputs": [
    {
     "data": {
      "text/plain": [
       "4"
      ]
     },
     "execution_count": 27,
     "metadata": {},
     "output_type": "execute_result"
    }
   ],
   "source": [
    "a1.index('Mona')"
   ]
  },
  {
   "cell_type": "code",
   "execution_count": 29,
   "id": "d6819102-4a5d-4ac7-a402-b47a2058ec8d",
   "metadata": {},
   "outputs": [
    {
     "data": {
      "text/plain": [
       "True"
      ]
     },
     "execution_count": 29,
     "metadata": {},
     "output_type": "execute_result"
    }
   ],
   "source": [
    "'Mona' != a1[-1] and a1.index('Mona') >= len(a1)/2"
   ]
  },
  {
   "cell_type": "code",
   "execution_count": 31,
   "id": "cd07b37e-dcca-4c10-809e-30bd23259174",
   "metadata": {},
   "outputs": [],
   "source": [
    "def fashionably_late(arrivals, name):\n",
    "    \"\"\"Given an ordered list of arrivals to the party and a name, return whether the guest with that\n",
    "    name was fashionably late.\n",
    "    \"\"\"\n",
    "    for name in arrivals:\n",
    "        name_index = arrivals.index(name)\n",
    "        return name != arrivals[-1] and name_index >= len(arrivals)/2\n",
    "        # if name==arrivals[-1] or name_index <= len(arrivals)/2 ----->other option\n"
   ]
  },
  {
   "cell_type": "code",
   "execution_count": 33,
   "id": "6bfa5bc9-5f9d-404c-8764-f16fd227277a",
   "metadata": {},
   "outputs": [
    {
     "data": {
      "text/plain": [
       "False"
      ]
     },
     "execution_count": 33,
     "metadata": {},
     "output_type": "execute_result"
    }
   ],
   "source": [
    "fashionably_late(a1, 'Mona')"
   ]
  },
  {
   "cell_type": "markdown",
   "id": "053261b6-7df2-421b-a3c9-23f24b3516ac",
   "metadata": {},
   "source": [
    "# External libraries"
   ]
  },
  {
   "cell_type": "code",
   "execution_count": 37,
   "id": "2ddb63c0-de22-43b3-9aca-49c1f4550a30",
   "metadata": {},
   "outputs": [],
   "source": [
    "import math as mt"
   ]
  },
  {
   "cell_type": "code",
   "execution_count": 35,
   "id": "53018616-0324-4eff-aeae-437db9b1e55c",
   "metadata": {},
   "outputs": [
    {
     "ename": "NameError",
     "evalue": "name 'pi' is not defined",
     "output_type": "error",
     "traceback": [
      "\u001b[1;31m---------------------------------------------------------------------------\u001b[0m",
      "\u001b[1;31mNameError\u001b[0m                                 Traceback (most recent call last)",
      "Cell \u001b[1;32mIn[35], line 1\u001b[0m\n\u001b[1;32m----> 1\u001b[0m pi\n",
      "\u001b[1;31mNameError\u001b[0m: name 'pi' is not defined"
     ]
    }
   ],
   "source": [
    "pi"
   ]
  },
  {
   "cell_type": "code",
   "execution_count": 41,
   "id": "4664fd42-79e3-4450-a233-a9eab76a4ced",
   "metadata": {},
   "outputs": [
    {
     "ename": "NameError",
     "evalue": "name 'math' is not defined",
     "output_type": "error",
     "traceback": [
      "\u001b[1;31m---------------------------------------------------------------------------\u001b[0m",
      "\u001b[1;31mNameError\u001b[0m                                 Traceback (most recent call last)",
      "Cell \u001b[1;32mIn[41], line 1\u001b[0m\n\u001b[1;32m----> 1\u001b[0m math\u001b[38;5;241m.\u001b[39mpi\n",
      "\u001b[1;31mNameError\u001b[0m: name 'math' is not defined"
     ]
    }
   ],
   "source": [
    "math.pi"
   ]
  },
  {
   "cell_type": "code",
   "execution_count": 39,
   "id": "fb1b61c4-d594-4fa4-9eb0-964ad1e04cf5",
   "metadata": {},
   "outputs": [
    {
     "data": {
      "text/plain": [
       "3.141592653589793"
      ]
     },
     "execution_count": 39,
     "metadata": {},
     "output_type": "execute_result"
    }
   ],
   "source": [
    "mt.pi"
   ]
  },
  {
   "cell_type": "code",
   "execution_count": 45,
   "id": "700fe849-24cc-4b2e-bc8f-34932492125e",
   "metadata": {},
   "outputs": [
    {
     "data": {
      "text/plain": [
       "5.0"
      ]
     },
     "execution_count": 45,
     "metadata": {},
     "output_type": "execute_result"
    }
   ],
   "source": [
    "mt.log(32, 2)"
   ]
  },
  {
   "cell_type": "code",
   "execution_count": 43,
   "id": "b0fbb97f-7fa8-4a75-a144-ced9fc28e225",
   "metadata": {},
   "outputs": [
    {
     "data": {
      "text/plain": [
       "3.141592653589793"
      ]
     },
     "execution_count": 43,
     "metadata": {},
     "output_type": "execute_result"
    }
   ],
   "source": [
    "import math\n",
    "math.pi"
   ]
  },
  {
   "cell_type": "code",
   "execution_count": 47,
   "id": "82e93da7-3f6f-46dd-b125-e6911a469ef5",
   "metadata": {},
   "outputs": [],
   "source": [
    "import random"
   ]
  },
  {
   "cell_type": "code",
   "execution_count": 55,
   "id": "caff3c3b-a31b-415f-9e12-e19f069d44b8",
   "metadata": {},
   "outputs": [
    {
     "data": {
      "text/plain": [
       "8"
      ]
     },
     "execution_count": 55,
     "metadata": {},
     "output_type": "execute_result"
    }
   ],
   "source": [
    "random.randint(1, 10)"
   ]
  },
  {
   "cell_type": "code",
   "execution_count": null,
   "id": "b2cfeb3c-88df-45a1-9add-6e68888cacce",
   "metadata": {},
   "outputs": [],
   "source": []
  },
  {
   "cell_type": "code",
   "execution_count": 57,
   "id": "ae0ccfe4-0810-41de-93e7-9cbf2ec34d87",
   "metadata": {},
   "outputs": [],
   "source": [
    "import numpy as np\n",
    "import pandas as pd"
   ]
  },
  {
   "cell_type": "markdown",
   "id": "81fd1195-a63e-4c2a-8bd2-83107606c203",
   "metadata": {},
   "source": [
    "# Hello pandas!!\n",
    "## Hello dataframes!!\n",
    "\n",
    "A dataframe is made up of series, and unintuitively series and dataframes don't have the same functions\n",
    "\n",
    "Dataframes are super useful data structure, they're very efficient so easy to do handle large datasets (once they're in a dataframe), flexible, can be created from almost anything, many cool built in functions, and just overall the basic structure of working with data"
   ]
  },
  {
   "cell_type": "code",
   "execution_count": 61,
   "id": "9e720b22-e1b0-43aa-adef-2ac0fc17b416",
   "metadata": {},
   "outputs": [
    {
     "data": {
      "text/html": [
       "<div>\n",
       "<style scoped>\n",
       "    .dataframe tbody tr th:only-of-type {\n",
       "        vertical-align: middle;\n",
       "    }\n",
       "\n",
       "    .dataframe tbody tr th {\n",
       "        vertical-align: top;\n",
       "    }\n",
       "\n",
       "    .dataframe thead th {\n",
       "        text-align: right;\n",
       "    }\n",
       "</style>\n",
       "<table border=\"1\" class=\"dataframe\">\n",
       "  <thead>\n",
       "    <tr style=\"text-align: right;\">\n",
       "      <th></th>\n",
       "      <th>0</th>\n",
       "    </tr>\n",
       "  </thead>\n",
       "  <tbody>\n",
       "    <tr>\n",
       "      <th>0</th>\n",
       "      <td>apple</td>\n",
       "    </tr>\n",
       "    <tr>\n",
       "      <th>1</th>\n",
       "      <td>banana</td>\n",
       "    </tr>\n",
       "    <tr>\n",
       "      <th>2</th>\n",
       "      <td>cherry</td>\n",
       "    </tr>\n",
       "  </tbody>\n",
       "</table>\n",
       "</div>"
      ],
      "text/plain": [
       "        0\n",
       "0   apple\n",
       "1  banana\n",
       "2  cherry"
      ]
     },
     "execution_count": 61,
     "metadata": {},
     "output_type": "execute_result"
    }
   ],
   "source": [
    "data = ['apple', 'banana', 'cherry']\n",
    "pd.DataFrame(data)"
   ]
  },
  {
   "cell_type": "code",
   "execution_count": 63,
   "id": "db9d6bc7-3cde-4f4c-8df8-0030325c6252",
   "metadata": {},
   "outputs": [
    {
     "data": {
      "text/html": [
       "<div>\n",
       "<style scoped>\n",
       "    .dataframe tbody tr th:only-of-type {\n",
       "        vertical-align: middle;\n",
       "    }\n",
       "\n",
       "    .dataframe tbody tr th {\n",
       "        vertical-align: top;\n",
       "    }\n",
       "\n",
       "    .dataframe thead th {\n",
       "        text-align: right;\n",
       "    }\n",
       "</style>\n",
       "<table border=\"1\" class=\"dataframe\">\n",
       "  <thead>\n",
       "    <tr style=\"text-align: right;\">\n",
       "      <th></th>\n",
       "      <th>Fruit</th>\n",
       "    </tr>\n",
       "  </thead>\n",
       "  <tbody>\n",
       "    <tr>\n",
       "      <th>0</th>\n",
       "      <td>apple</td>\n",
       "    </tr>\n",
       "    <tr>\n",
       "      <th>1</th>\n",
       "      <td>banana</td>\n",
       "    </tr>\n",
       "    <tr>\n",
       "      <th>2</th>\n",
       "      <td>cherry</td>\n",
       "    </tr>\n",
       "  </tbody>\n",
       "</table>\n",
       "</div>"
      ],
      "text/plain": [
       "    Fruit\n",
       "0   apple\n",
       "1  banana\n",
       "2  cherry"
      ]
     },
     "execution_count": 63,
     "metadata": {},
     "output_type": "execute_result"
    }
   ],
   "source": [
    "pd.DataFrame(data, columns=['Fruit'])"
   ]
  },
  {
   "cell_type": "code",
   "execution_count": 69,
   "id": "4165f3a8-f14c-4236-a65e-ae6528bc0d98",
   "metadata": {},
   "outputs": [
    {
     "data": {
      "text/html": [
       "<div>\n",
       "<style scoped>\n",
       "    .dataframe tbody tr th:only-of-type {\n",
       "        vertical-align: middle;\n",
       "    }\n",
       "\n",
       "    .dataframe tbody tr th {\n",
       "        vertical-align: top;\n",
       "    }\n",
       "\n",
       "    .dataframe thead th {\n",
       "        text-align: right;\n",
       "    }\n",
       "</style>\n",
       "<table border=\"1\" class=\"dataframe\">\n",
       "  <thead>\n",
       "    <tr style=\"text-align: right;\">\n",
       "      <th></th>\n",
       "      <th>Name</th>\n",
       "      <th>Age</th>\n",
       "    </tr>\n",
       "  </thead>\n",
       "  <tbody>\n",
       "    <tr>\n",
       "      <th>0</th>\n",
       "      <td>Tom</td>\n",
       "      <td>20.0</td>\n",
       "    </tr>\n",
       "    <tr>\n",
       "      <th>1</th>\n",
       "      <td>Nick</td>\n",
       "      <td>21.0</td>\n",
       "    </tr>\n",
       "    <tr>\n",
       "      <th>2</th>\n",
       "      <td>Krish</td>\n",
       "      <td>19.0</td>\n",
       "    </tr>\n",
       "    <tr>\n",
       "      <th>3</th>\n",
       "      <td>Jack</td>\n",
       "      <td>NaN</td>\n",
       "    </tr>\n",
       "  </tbody>\n",
       "</table>\n",
       "</div>"
      ],
      "text/plain": [
       "    Name   Age\n",
       "0    Tom  20.0\n",
       "1   Nick  21.0\n",
       "2  Krish  19.0\n",
       "3   Jack   NaN"
      ]
     },
     "execution_count": 69,
     "metadata": {},
     "output_type": "execute_result"
    }
   ],
   "source": [
    "data = {'Name': ['Tom', 'Nick', 'Krish', 'Jack'],\n",
    "        'Age': [20, 21, 19, None]}\n",
    "\n",
    "pd.DataFrame(data)"
   ]
  },
  {
   "cell_type": "code",
   "execution_count": 71,
   "id": "9f81698d-5616-4bac-93cb-fff1831e9c73",
   "metadata": {},
   "outputs": [],
   "source": [
    "df = pd.read_excel(r'C:\\Users\\ydool\\Downloads\\Data Operations Job Title Taxonomy Versioned.xlsx', sheet_name='master v1')"
   ]
  },
  {
   "cell_type": "code",
   "execution_count": 75,
   "id": "c826bb90-aaf9-414d-a2df-34eecd66aa49",
   "metadata": {},
   "outputs": [
    {
     "data": {
      "text/html": [
       "<div>\n",
       "<style scoped>\n",
       "    .dataframe tbody tr th:only-of-type {\n",
       "        vertical-align: middle;\n",
       "    }\n",
       "\n",
       "    .dataframe tbody tr th {\n",
       "        vertical-align: top;\n",
       "    }\n",
       "\n",
       "    .dataframe thead th {\n",
       "        text-align: right;\n",
       "    }\n",
       "</style>\n",
       "<table border=\"1\" class=\"dataframe\">\n",
       "  <thead>\n",
       "    <tr style=\"text-align: right;\">\n",
       "      <th></th>\n",
       "      <th>alias</th>\n",
       "      <th>canonical_title</th>\n",
       "      <th>parent_title</th>\n",
       "      <th>title_definition</th>\n",
       "      <th>function</th>\n",
       "      <th>function_ISO-8K-150</th>\n",
       "      <th>is_generic</th>\n",
       "      <th>is_people_manager</th>\n",
       "      <th>is_active</th>\n",
       "      <th>alias_company</th>\n",
       "      <th>alias_time_stamp</th>\n",
       "      <th>comment</th>\n",
       "    </tr>\n",
       "  </thead>\n",
       "  <tbody>\n",
       "    <tr>\n",
       "      <th>0</th>\n",
       "      <td>ai linguist</td>\n",
       "      <td>AI Linguist</td>\n",
       "      <td>Language Data Analyst</td>\n",
       "      <td>NaN</td>\n",
       "      <td>Data Operations Management</td>\n",
       "      <td>Data Administrator</td>\n",
       "      <td>NaN</td>\n",
       "      <td>NaN</td>\n",
       "      <td>yes</td>\n",
       "      <td>NaN</td>\n",
       "      <td>NaT</td>\n",
       "      <td>NaN</td>\n",
       "    </tr>\n",
       "    <tr>\n",
       "      <th>1</th>\n",
       "      <td>ai operations manager</td>\n",
       "      <td>AI Operations Manager</td>\n",
       "      <td>Data Operations Manager</td>\n",
       "      <td>NaN</td>\n",
       "      <td>Data Operations Management</td>\n",
       "      <td>Data Manager</td>\n",
       "      <td>NaN</td>\n",
       "      <td>NaN</td>\n",
       "      <td>yes</td>\n",
       "      <td>NaN</td>\n",
       "      <td>NaT</td>\n",
       "      <td>NaN</td>\n",
       "    </tr>\n",
       "    <tr>\n",
       "      <th>2</th>\n",
       "      <td>ai project manager</td>\n",
       "      <td>AI Project Manager</td>\n",
       "      <td>AI Operations Manager</td>\n",
       "      <td>NaN</td>\n",
       "      <td>Data Operations Management</td>\n",
       "      <td>Data Manager</td>\n",
       "      <td>NaN</td>\n",
       "      <td>NaN</td>\n",
       "      <td>yes</td>\n",
       "      <td>NaN</td>\n",
       "      <td>NaT</td>\n",
       "      <td>NaN</td>\n",
       "    </tr>\n",
       "    <tr>\n",
       "      <th>3</th>\n",
       "      <td>ai solutions specialist</td>\n",
       "      <td>AI Solutions Specialist</td>\n",
       "      <td>NaN</td>\n",
       "      <td>NaN</td>\n",
       "      <td>Data Operations Management</td>\n",
       "      <td>Data Administrator</td>\n",
       "      <td>yes</td>\n",
       "      <td>NaN</td>\n",
       "      <td>yes</td>\n",
       "      <td>Salesforce</td>\n",
       "      <td>NaT</td>\n",
       "      <td>NaN</td>\n",
       "    </tr>\n",
       "  </tbody>\n",
       "</table>\n",
       "</div>"
      ],
      "text/plain": [
       "                     alias          canonical_title             parent_title  \\\n",
       "0              ai linguist              AI Linguist    Language Data Analyst   \n",
       "1    ai operations manager    AI Operations Manager  Data Operations Manager   \n",
       "2       ai project manager       AI Project Manager    AI Operations Manager   \n",
       "3  ai solutions specialist  AI Solutions Specialist                      NaN   \n",
       "\n",
       "   title_definition                    function function_ISO-8K-150  \\\n",
       "0               NaN  Data Operations Management  Data Administrator   \n",
       "1               NaN  Data Operations Management        Data Manager   \n",
       "2               NaN  Data Operations Management        Data Manager   \n",
       "3               NaN  Data Operations Management  Data Administrator   \n",
       "\n",
       "  is_generic is_people_manager is_active alias_company alias_time_stamp  \\\n",
       "0        NaN               NaN       yes           NaN              NaT   \n",
       "1        NaN               NaN       yes           NaN              NaT   \n",
       "2        NaN               NaN       yes           NaN              NaT   \n",
       "3        yes               NaN       yes    Salesforce              NaT   \n",
       "\n",
       "  comment  \n",
       "0     NaN  \n",
       "1     NaN  \n",
       "2     NaN  \n",
       "3     NaN  "
      ]
     },
     "execution_count": 75,
     "metadata": {},
     "output_type": "execute_result"
    }
   ],
   "source": [
    "df.head(4)"
   ]
  },
  {
   "cell_type": "code",
   "execution_count": 77,
   "id": "0d7dc5f2-d0ad-4437-8bf6-048ac23568d3",
   "metadata": {},
   "outputs": [
    {
     "data": {
      "text/html": [
       "<div>\n",
       "<style scoped>\n",
       "    .dataframe tbody tr th:only-of-type {\n",
       "        vertical-align: middle;\n",
       "    }\n",
       "\n",
       "    .dataframe tbody tr th {\n",
       "        vertical-align: top;\n",
       "    }\n",
       "\n",
       "    .dataframe thead th {\n",
       "        text-align: right;\n",
       "    }\n",
       "</style>\n",
       "<table border=\"1\" class=\"dataframe\">\n",
       "  <thead>\n",
       "    <tr style=\"text-align: right;\">\n",
       "      <th></th>\n",
       "      <th>alias</th>\n",
       "      <th>canonical_title</th>\n",
       "      <th>parent_title</th>\n",
       "      <th>title_definition</th>\n",
       "      <th>function</th>\n",
       "      <th>function_ISO-8K-150</th>\n",
       "      <th>is_generic</th>\n",
       "      <th>is_people_manager</th>\n",
       "      <th>is_active</th>\n",
       "      <th>alias_company</th>\n",
       "      <th>alias_time_stamp</th>\n",
       "      <th>comment</th>\n",
       "    </tr>\n",
       "  </thead>\n",
       "  <tbody>\n",
       "    <tr>\n",
       "      <th>131</th>\n",
       "      <td>ai specialist</td>\n",
       "      <td>AI Solutions Specialist</td>\n",
       "      <td>NaN</td>\n",
       "      <td>NaN</td>\n",
       "      <td>Data Operations Management</td>\n",
       "      <td>Data Administrator</td>\n",
       "      <td>yes</td>\n",
       "      <td>NaN</td>\n",
       "      <td>yes</td>\n",
       "      <td>NaN</td>\n",
       "      <td>2025-03-29</td>\n",
       "      <td>NaN</td>\n",
       "    </tr>\n",
       "    <tr>\n",
       "      <th>132</th>\n",
       "      <td>data engagement team data analyst</td>\n",
       "      <td>Data Engagement Team Data Analyst</td>\n",
       "      <td>Quality Data Analyst</td>\n",
       "      <td>NaN</td>\n",
       "      <td>Data Operations Management</td>\n",
       "      <td>Data Administrator</td>\n",
       "      <td>NaN</td>\n",
       "      <td>NaN</td>\n",
       "      <td>yes</td>\n",
       "      <td>NaN</td>\n",
       "      <td>2025-03-29</td>\n",
       "      <td>NaN</td>\n",
       "    </tr>\n",
       "    <tr>\n",
       "      <th>133</th>\n",
       "      <td>data curation manager</td>\n",
       "      <td>Data Curation Manager</td>\n",
       "      <td>Data Operations Manager</td>\n",
       "      <td>NaN</td>\n",
       "      <td>Data Operations Management</td>\n",
       "      <td>Data Manager</td>\n",
       "      <td>NaN</td>\n",
       "      <td>NaN</td>\n",
       "      <td>yes</td>\n",
       "      <td>Cyera</td>\n",
       "      <td>2025-03-29</td>\n",
       "      <td>NaN</td>\n",
       "    </tr>\n",
       "    <tr>\n",
       "      <th>134</th>\n",
       "      <td>head of master data</td>\n",
       "      <td>Head of Master Data</td>\n",
       "      <td>Data Operations Manager</td>\n",
       "      <td>NaN</td>\n",
       "      <td>Data Operations Management</td>\n",
       "      <td>Data Manager</td>\n",
       "      <td>NaN</td>\n",
       "      <td>NaN</td>\n",
       "      <td>yes</td>\n",
       "      <td>Tnuva</td>\n",
       "      <td>2025-03-29</td>\n",
       "      <td>NaN</td>\n",
       "    </tr>\n",
       "    <tr>\n",
       "      <th>135</th>\n",
       "      <td>data collection qa</td>\n",
       "      <td>Data Collection QA</td>\n",
       "      <td>Data Collection Specialist</td>\n",
       "      <td>NaN</td>\n",
       "      <td>Data Labeling</td>\n",
       "      <td>Data Technician</td>\n",
       "      <td>NaN</td>\n",
       "      <td>NaN</td>\n",
       "      <td>yes</td>\n",
       "      <td>NaN</td>\n",
       "      <td>2025-03-29</td>\n",
       "      <td>NaN</td>\n",
       "    </tr>\n",
       "  </tbody>\n",
       "</table>\n",
       "</div>"
      ],
      "text/plain": [
       "                                 alias                    canonical_title  \\\n",
       "131                      ai specialist            AI Solutions Specialist   \n",
       "132  data engagement team data analyst  Data Engagement Team Data Analyst   \n",
       "133              data curation manager              Data Curation Manager   \n",
       "134                head of master data                Head of Master Data   \n",
       "135                 data collection qa                 Data Collection QA   \n",
       "\n",
       "                   parent_title  title_definition                    function  \\\n",
       "131                         NaN               NaN  Data Operations Management   \n",
       "132        Quality Data Analyst               NaN  Data Operations Management   \n",
       "133     Data Operations Manager               NaN  Data Operations Management   \n",
       "134     Data Operations Manager               NaN  Data Operations Management   \n",
       "135  Data Collection Specialist               NaN               Data Labeling   \n",
       "\n",
       "    function_ISO-8K-150 is_generic is_people_manager is_active alias_company  \\\n",
       "131  Data Administrator        yes               NaN       yes           NaN   \n",
       "132  Data Administrator        NaN               NaN       yes           NaN   \n",
       "133        Data Manager        NaN               NaN       yes         Cyera   \n",
       "134        Data Manager        NaN               NaN       yes         Tnuva   \n",
       "135     Data Technician        NaN               NaN       yes           NaN   \n",
       "\n",
       "    alias_time_stamp comment  \n",
       "131       2025-03-29     NaN  \n",
       "132       2025-03-29     NaN  \n",
       "133       2025-03-29     NaN  \n",
       "134       2025-03-29     NaN  \n",
       "135       2025-03-29     NaN  "
      ]
     },
     "execution_count": 77,
     "metadata": {},
     "output_type": "execute_result"
    }
   ],
   "source": [
    "df.tail()"
   ]
  },
  {
   "cell_type": "code",
   "execution_count": 79,
   "id": "b6202a14-d7e6-4de0-acdd-1fd91c000e80",
   "metadata": {},
   "outputs": [
    {
     "data": {
      "text/plain": [
       "(136, 12)"
      ]
     },
     "execution_count": 79,
     "metadata": {},
     "output_type": "execute_result"
    }
   ],
   "source": [
    "df.shape"
   ]
  },
  {
   "cell_type": "code",
   "execution_count": 81,
   "id": "569b844d-9b93-4047-9d62-31d2ea88b23d",
   "metadata": {},
   "outputs": [
    {
     "name": "stdout",
     "output_type": "stream",
     "text": [
      "<class 'pandas.core.frame.DataFrame'>\n",
      "RangeIndex: 136 entries, 0 to 135\n",
      "Data columns (total 12 columns):\n",
      " #   Column               Non-Null Count  Dtype         \n",
      "---  ------               --------------  -----         \n",
      " 0   alias                136 non-null    object        \n",
      " 1   canonical_title      136 non-null    object        \n",
      " 2   parent_title         83 non-null     object        \n",
      " 3   title_definition     0 non-null      float64       \n",
      " 4   function             125 non-null    object        \n",
      " 5   function_ISO-8K-150  125 non-null    object        \n",
      " 6   is_generic           17 non-null     object        \n",
      " 7   is_people_manager    30 non-null     object        \n",
      " 8   is_active            136 non-null    object        \n",
      " 9   alias_company        20 non-null     object        \n",
      " 10  alias_time_stamp     20 non-null     datetime64[ns]\n",
      " 11  comment              5 non-null      object        \n",
      "dtypes: datetime64[ns](1), float64(1), object(10)\n",
      "memory usage: 12.9+ KB\n"
     ]
    }
   ],
   "source": [
    "df.info()"
   ]
  },
  {
   "cell_type": "code",
   "execution_count": 83,
   "id": "dcc6f93c-dc33-4a06-a4f1-966867f7dc73",
   "metadata": {},
   "outputs": [],
   "source": [
    "df['rand_number'] = np.random.randint(1, 101, size=len(df))\n",
    "df['rand_number2'] = np.random.randint(1, 101, size=len(df))"
   ]
  },
  {
   "cell_type": "code",
   "execution_count": 85,
   "id": "282ba5e6-3a02-459b-a804-87580d033247",
   "metadata": {},
   "outputs": [
    {
     "data": {
      "text/html": [
       "<div>\n",
       "<style scoped>\n",
       "    .dataframe tbody tr th:only-of-type {\n",
       "        vertical-align: middle;\n",
       "    }\n",
       "\n",
       "    .dataframe tbody tr th {\n",
       "        vertical-align: top;\n",
       "    }\n",
       "\n",
       "    .dataframe thead th {\n",
       "        text-align: right;\n",
       "    }\n",
       "</style>\n",
       "<table border=\"1\" class=\"dataframe\">\n",
       "  <thead>\n",
       "    <tr style=\"text-align: right;\">\n",
       "      <th></th>\n",
       "      <th>alias</th>\n",
       "      <th>canonical_title</th>\n",
       "      <th>parent_title</th>\n",
       "      <th>title_definition</th>\n",
       "      <th>function</th>\n",
       "      <th>function_ISO-8K-150</th>\n",
       "      <th>is_generic</th>\n",
       "      <th>is_people_manager</th>\n",
       "      <th>is_active</th>\n",
       "      <th>alias_company</th>\n",
       "      <th>alias_time_stamp</th>\n",
       "      <th>comment</th>\n",
       "      <th>rand_number</th>\n",
       "      <th>rand_number2</th>\n",
       "    </tr>\n",
       "  </thead>\n",
       "  <tbody>\n",
       "    <tr>\n",
       "      <th>0</th>\n",
       "      <td>ai linguist</td>\n",
       "      <td>AI Linguist</td>\n",
       "      <td>Language Data Analyst</td>\n",
       "      <td>NaN</td>\n",
       "      <td>Data Operations Management</td>\n",
       "      <td>Data Administrator</td>\n",
       "      <td>NaN</td>\n",
       "      <td>NaN</td>\n",
       "      <td>yes</td>\n",
       "      <td>NaN</td>\n",
       "      <td>NaT</td>\n",
       "      <td>NaN</td>\n",
       "      <td>9</td>\n",
       "      <td>42</td>\n",
       "    </tr>\n",
       "    <tr>\n",
       "      <th>1</th>\n",
       "      <td>ai operations manager</td>\n",
       "      <td>AI Operations Manager</td>\n",
       "      <td>Data Operations Manager</td>\n",
       "      <td>NaN</td>\n",
       "      <td>Data Operations Management</td>\n",
       "      <td>Data Manager</td>\n",
       "      <td>NaN</td>\n",
       "      <td>NaN</td>\n",
       "      <td>yes</td>\n",
       "      <td>NaN</td>\n",
       "      <td>NaT</td>\n",
       "      <td>NaN</td>\n",
       "      <td>83</td>\n",
       "      <td>14</td>\n",
       "    </tr>\n",
       "    <tr>\n",
       "      <th>2</th>\n",
       "      <td>ai project manager</td>\n",
       "      <td>AI Project Manager</td>\n",
       "      <td>AI Operations Manager</td>\n",
       "      <td>NaN</td>\n",
       "      <td>Data Operations Management</td>\n",
       "      <td>Data Manager</td>\n",
       "      <td>NaN</td>\n",
       "      <td>NaN</td>\n",
       "      <td>yes</td>\n",
       "      <td>NaN</td>\n",
       "      <td>NaT</td>\n",
       "      <td>NaN</td>\n",
       "      <td>44</td>\n",
       "      <td>20</td>\n",
       "    </tr>\n",
       "    <tr>\n",
       "      <th>3</th>\n",
       "      <td>ai solutions specialist</td>\n",
       "      <td>AI Solutions Specialist</td>\n",
       "      <td>NaN</td>\n",
       "      <td>NaN</td>\n",
       "      <td>Data Operations Management</td>\n",
       "      <td>Data Administrator</td>\n",
       "      <td>yes</td>\n",
       "      <td>NaN</td>\n",
       "      <td>yes</td>\n",
       "      <td>Salesforce</td>\n",
       "      <td>NaT</td>\n",
       "      <td>NaN</td>\n",
       "      <td>19</td>\n",
       "      <td>63</td>\n",
       "    </tr>\n",
       "    <tr>\n",
       "      <th>4</th>\n",
       "      <td>annotated data reviewer</td>\n",
       "      <td>Annotated Data Reviewer</td>\n",
       "      <td>Data Labeler</td>\n",
       "      <td>NaN</td>\n",
       "      <td>Data Labeling</td>\n",
       "      <td>Data Technician</td>\n",
       "      <td>NaN</td>\n",
       "      <td>NaN</td>\n",
       "      <td>yes</td>\n",
       "      <td>NaN</td>\n",
       "      <td>NaT</td>\n",
       "      <td>NaN</td>\n",
       "      <td>27</td>\n",
       "      <td>21</td>\n",
       "    </tr>\n",
       "  </tbody>\n",
       "</table>\n",
       "</div>"
      ],
      "text/plain": [
       "                     alias          canonical_title             parent_title  \\\n",
       "0              ai linguist              AI Linguist    Language Data Analyst   \n",
       "1    ai operations manager    AI Operations Manager  Data Operations Manager   \n",
       "2       ai project manager       AI Project Manager    AI Operations Manager   \n",
       "3  ai solutions specialist  AI Solutions Specialist                      NaN   \n",
       "4  annotated data reviewer  Annotated Data Reviewer             Data Labeler   \n",
       "\n",
       "   title_definition                    function function_ISO-8K-150  \\\n",
       "0               NaN  Data Operations Management  Data Administrator   \n",
       "1               NaN  Data Operations Management        Data Manager   \n",
       "2               NaN  Data Operations Management        Data Manager   \n",
       "3               NaN  Data Operations Management  Data Administrator   \n",
       "4               NaN               Data Labeling     Data Technician   \n",
       "\n",
       "  is_generic is_people_manager is_active alias_company alias_time_stamp  \\\n",
       "0        NaN               NaN       yes           NaN              NaT   \n",
       "1        NaN               NaN       yes           NaN              NaT   \n",
       "2        NaN               NaN       yes           NaN              NaT   \n",
       "3        yes               NaN       yes    Salesforce              NaT   \n",
       "4        NaN               NaN       yes           NaN              NaT   \n",
       "\n",
       "  comment  rand_number  rand_number2  \n",
       "0     NaN            9            42  \n",
       "1     NaN           83            14  \n",
       "2     NaN           44            20  \n",
       "3     NaN           19            63  \n",
       "4     NaN           27            21  "
      ]
     },
     "execution_count": 85,
     "metadata": {},
     "output_type": "execute_result"
    }
   ],
   "source": [
    "df.head()"
   ]
  },
  {
   "cell_type": "code",
   "execution_count": 87,
   "id": "2bd1d152-ccb2-478b-9c4c-2d81a5fc45ce",
   "metadata": {},
   "outputs": [
    {
     "data": {
      "text/plain": [
       "0       9\n",
       "1      83\n",
       "2      44\n",
       "3      19\n",
       "4      27\n",
       "       ..\n",
       "131    99\n",
       "132    40\n",
       "133    71\n",
       "134    13\n",
       "135    91\n",
       "Name: rand_number, Length: 136, dtype: int32"
      ]
     },
     "execution_count": 87,
     "metadata": {},
     "output_type": "execute_result"
    }
   ],
   "source": [
    "df['rand_number']"
   ]
  },
  {
   "cell_type": "code",
   "execution_count": 89,
   "id": "ef52f301-1e9f-4b69-9108-d1d1d22ebc15",
   "metadata": {},
   "outputs": [],
   "source": [
    "df['diff'] = df['rand_number'] - df['rand_number2']"
   ]
  },
  {
   "cell_type": "code",
   "execution_count": 93,
   "id": "b70422ab-6492-4bc9-90a4-52adc6d0673e",
   "metadata": {},
   "outputs": [],
   "source": [
    "df['a'] = 'a'"
   ]
  },
  {
   "cell_type": "code",
   "execution_count": 95,
   "id": "49768574-1da7-4333-9444-4b6bbac3745c",
   "metadata": {},
   "outputs": [
    {
     "data": {
      "text/html": [
       "<div>\n",
       "<style scoped>\n",
       "    .dataframe tbody tr th:only-of-type {\n",
       "        vertical-align: middle;\n",
       "    }\n",
       "\n",
       "    .dataframe tbody tr th {\n",
       "        vertical-align: top;\n",
       "    }\n",
       "\n",
       "    .dataframe thead th {\n",
       "        text-align: right;\n",
       "    }\n",
       "</style>\n",
       "<table border=\"1\" class=\"dataframe\">\n",
       "  <thead>\n",
       "    <tr style=\"text-align: right;\">\n",
       "      <th></th>\n",
       "      <th>alias</th>\n",
       "      <th>canonical_title</th>\n",
       "      <th>parent_title</th>\n",
       "      <th>title_definition</th>\n",
       "      <th>function</th>\n",
       "      <th>function_ISO-8K-150</th>\n",
       "      <th>is_generic</th>\n",
       "      <th>is_people_manager</th>\n",
       "      <th>is_active</th>\n",
       "      <th>alias_company</th>\n",
       "      <th>alias_time_stamp</th>\n",
       "      <th>comment</th>\n",
       "      <th>rand_number</th>\n",
       "      <th>rand_number2</th>\n",
       "      <th>diff</th>\n",
       "      <th>a</th>\n",
       "    </tr>\n",
       "  </thead>\n",
       "  <tbody>\n",
       "    <tr>\n",
       "      <th>0</th>\n",
       "      <td>ai linguist</td>\n",
       "      <td>AI Linguist</td>\n",
       "      <td>Language Data Analyst</td>\n",
       "      <td>NaN</td>\n",
       "      <td>Data Operations Management</td>\n",
       "      <td>Data Administrator</td>\n",
       "      <td>NaN</td>\n",
       "      <td>NaN</td>\n",
       "      <td>yes</td>\n",
       "      <td>NaN</td>\n",
       "      <td>NaT</td>\n",
       "      <td>NaN</td>\n",
       "      <td>9</td>\n",
       "      <td>42</td>\n",
       "      <td>-33</td>\n",
       "      <td>a</td>\n",
       "    </tr>\n",
       "    <tr>\n",
       "      <th>1</th>\n",
       "      <td>ai operations manager</td>\n",
       "      <td>AI Operations Manager</td>\n",
       "      <td>Data Operations Manager</td>\n",
       "      <td>NaN</td>\n",
       "      <td>Data Operations Management</td>\n",
       "      <td>Data Manager</td>\n",
       "      <td>NaN</td>\n",
       "      <td>NaN</td>\n",
       "      <td>yes</td>\n",
       "      <td>NaN</td>\n",
       "      <td>NaT</td>\n",
       "      <td>NaN</td>\n",
       "      <td>83</td>\n",
       "      <td>14</td>\n",
       "      <td>69</td>\n",
       "      <td>a</td>\n",
       "    </tr>\n",
       "    <tr>\n",
       "      <th>2</th>\n",
       "      <td>ai project manager</td>\n",
       "      <td>AI Project Manager</td>\n",
       "      <td>AI Operations Manager</td>\n",
       "      <td>NaN</td>\n",
       "      <td>Data Operations Management</td>\n",
       "      <td>Data Manager</td>\n",
       "      <td>NaN</td>\n",
       "      <td>NaN</td>\n",
       "      <td>yes</td>\n",
       "      <td>NaN</td>\n",
       "      <td>NaT</td>\n",
       "      <td>NaN</td>\n",
       "      <td>44</td>\n",
       "      <td>20</td>\n",
       "      <td>24</td>\n",
       "      <td>a</td>\n",
       "    </tr>\n",
       "    <tr>\n",
       "      <th>3</th>\n",
       "      <td>ai solutions specialist</td>\n",
       "      <td>AI Solutions Specialist</td>\n",
       "      <td>NaN</td>\n",
       "      <td>NaN</td>\n",
       "      <td>Data Operations Management</td>\n",
       "      <td>Data Administrator</td>\n",
       "      <td>yes</td>\n",
       "      <td>NaN</td>\n",
       "      <td>yes</td>\n",
       "      <td>Salesforce</td>\n",
       "      <td>NaT</td>\n",
       "      <td>NaN</td>\n",
       "      <td>19</td>\n",
       "      <td>63</td>\n",
       "      <td>-44</td>\n",
       "      <td>a</td>\n",
       "    </tr>\n",
       "    <tr>\n",
       "      <th>4</th>\n",
       "      <td>annotated data reviewer</td>\n",
       "      <td>Annotated Data Reviewer</td>\n",
       "      <td>Data Labeler</td>\n",
       "      <td>NaN</td>\n",
       "      <td>Data Labeling</td>\n",
       "      <td>Data Technician</td>\n",
       "      <td>NaN</td>\n",
       "      <td>NaN</td>\n",
       "      <td>yes</td>\n",
       "      <td>NaN</td>\n",
       "      <td>NaT</td>\n",
       "      <td>NaN</td>\n",
       "      <td>27</td>\n",
       "      <td>21</td>\n",
       "      <td>6</td>\n",
       "      <td>a</td>\n",
       "    </tr>\n",
       "  </tbody>\n",
       "</table>\n",
       "</div>"
      ],
      "text/plain": [
       "                     alias          canonical_title             parent_title  \\\n",
       "0              ai linguist              AI Linguist    Language Data Analyst   \n",
       "1    ai operations manager    AI Operations Manager  Data Operations Manager   \n",
       "2       ai project manager       AI Project Manager    AI Operations Manager   \n",
       "3  ai solutions specialist  AI Solutions Specialist                      NaN   \n",
       "4  annotated data reviewer  Annotated Data Reviewer             Data Labeler   \n",
       "\n",
       "   title_definition                    function function_ISO-8K-150  \\\n",
       "0               NaN  Data Operations Management  Data Administrator   \n",
       "1               NaN  Data Operations Management        Data Manager   \n",
       "2               NaN  Data Operations Management        Data Manager   \n",
       "3               NaN  Data Operations Management  Data Administrator   \n",
       "4               NaN               Data Labeling     Data Technician   \n",
       "\n",
       "  is_generic is_people_manager is_active alias_company alias_time_stamp  \\\n",
       "0        NaN               NaN       yes           NaN              NaT   \n",
       "1        NaN               NaN       yes           NaN              NaT   \n",
       "2        NaN               NaN       yes           NaN              NaT   \n",
       "3        yes               NaN       yes    Salesforce              NaT   \n",
       "4        NaN               NaN       yes           NaN              NaT   \n",
       "\n",
       "  comment  rand_number  rand_number2  diff  a  \n",
       "0     NaN            9            42   -33  a  \n",
       "1     NaN           83            14    69  a  \n",
       "2     NaN           44            20    24  a  \n",
       "3     NaN           19            63   -44  a  \n",
       "4     NaN           27            21     6  a  "
      ]
     },
     "execution_count": 95,
     "metadata": {},
     "output_type": "execute_result"
    }
   ],
   "source": [
    "df.head()"
   ]
  },
  {
   "cell_type": "code",
   "execution_count": 97,
   "id": "57c56f7e-b6c4-46f5-9f3e-dce1500e3c34",
   "metadata": {},
   "outputs": [
    {
     "data": {
      "text/html": [
       "<div>\n",
       "<style scoped>\n",
       "    .dataframe tbody tr th:only-of-type {\n",
       "        vertical-align: middle;\n",
       "    }\n",
       "\n",
       "    .dataframe tbody tr th {\n",
       "        vertical-align: top;\n",
       "    }\n",
       "\n",
       "    .dataframe thead th {\n",
       "        text-align: right;\n",
       "    }\n",
       "</style>\n",
       "<table border=\"1\" class=\"dataframe\">\n",
       "  <thead>\n",
       "    <tr style=\"text-align: right;\">\n",
       "      <th></th>\n",
       "      <th>title_definition</th>\n",
       "      <th>alias_time_stamp</th>\n",
       "      <th>rand_number</th>\n",
       "      <th>rand_number2</th>\n",
       "      <th>diff</th>\n",
       "    </tr>\n",
       "  </thead>\n",
       "  <tbody>\n",
       "    <tr>\n",
       "      <th>count</th>\n",
       "      <td>0.0</td>\n",
       "      <td>20</td>\n",
       "      <td>136.000000</td>\n",
       "      <td>136.000000</td>\n",
       "      <td>136.000000</td>\n",
       "    </tr>\n",
       "    <tr>\n",
       "      <th>mean</th>\n",
       "      <td>NaN</td>\n",
       "      <td>2025-01-08 16:48:00</td>\n",
       "      <td>48.507353</td>\n",
       "      <td>50.360294</td>\n",
       "      <td>-1.852941</td>\n",
       "    </tr>\n",
       "    <tr>\n",
       "      <th>min</th>\n",
       "      <td>NaN</td>\n",
       "      <td>2024-08-10 00:00:00</td>\n",
       "      <td>1.000000</td>\n",
       "      <td>1.000000</td>\n",
       "      <td>-89.000000</td>\n",
       "    </tr>\n",
       "    <tr>\n",
       "      <th>25%</th>\n",
       "      <td>NaN</td>\n",
       "      <td>2024-11-14 00:00:00</td>\n",
       "      <td>18.750000</td>\n",
       "      <td>25.000000</td>\n",
       "      <td>-32.250000</td>\n",
       "    </tr>\n",
       "    <tr>\n",
       "      <th>50%</th>\n",
       "      <td>NaN</td>\n",
       "      <td>2025-02-19 12:00:00</td>\n",
       "      <td>45.500000</td>\n",
       "      <td>51.000000</td>\n",
       "      <td>-4.000000</td>\n",
       "    </tr>\n",
       "    <tr>\n",
       "      <th>75%</th>\n",
       "      <td>NaN</td>\n",
       "      <td>2025-03-29 00:00:00</td>\n",
       "      <td>75.000000</td>\n",
       "      <td>76.250000</td>\n",
       "      <td>31.250000</td>\n",
       "    </tr>\n",
       "    <tr>\n",
       "      <th>max</th>\n",
       "      <td>NaN</td>\n",
       "      <td>2025-03-29 00:00:00</td>\n",
       "      <td>99.000000</td>\n",
       "      <td>100.000000</td>\n",
       "      <td>95.000000</td>\n",
       "    </tr>\n",
       "    <tr>\n",
       "      <th>std</th>\n",
       "      <td>NaN</td>\n",
       "      <td>NaN</td>\n",
       "      <td>30.041205</td>\n",
       "      <td>29.762933</td>\n",
       "      <td>41.980336</td>\n",
       "    </tr>\n",
       "  </tbody>\n",
       "</table>\n",
       "</div>"
      ],
      "text/plain": [
       "       title_definition     alias_time_stamp  rand_number  rand_number2  \\\n",
       "count               0.0                   20   136.000000    136.000000   \n",
       "mean                NaN  2025-01-08 16:48:00    48.507353     50.360294   \n",
       "min                 NaN  2024-08-10 00:00:00     1.000000      1.000000   \n",
       "25%                 NaN  2024-11-14 00:00:00    18.750000     25.000000   \n",
       "50%                 NaN  2025-02-19 12:00:00    45.500000     51.000000   \n",
       "75%                 NaN  2025-03-29 00:00:00    75.000000     76.250000   \n",
       "max                 NaN  2025-03-29 00:00:00    99.000000    100.000000   \n",
       "std                 NaN                  NaN    30.041205     29.762933   \n",
       "\n",
       "             diff  \n",
       "count  136.000000  \n",
       "mean    -1.852941  \n",
       "min    -89.000000  \n",
       "25%    -32.250000  \n",
       "50%     -4.000000  \n",
       "75%     31.250000  \n",
       "max     95.000000  \n",
       "std     41.980336  "
      ]
     },
     "execution_count": 97,
     "metadata": {},
     "output_type": "execute_result"
    }
   ],
   "source": [
    "df.describe()"
   ]
  },
  {
   "cell_type": "code",
   "execution_count": 99,
   "id": "bda917d3-74d4-4c40-896f-4583dff1601a",
   "metadata": {},
   "outputs": [
    {
     "data": {
      "text/plain": [
       "99"
      ]
     },
     "execution_count": 99,
     "metadata": {},
     "output_type": "execute_result"
    }
   ],
   "source": [
    "df['rand_number'].max()"
   ]
  },
  {
   "cell_type": "code",
   "execution_count": 101,
   "id": "9c5c3554-a24d-4589-b0cd-69eb64ac7ece",
   "metadata": {},
   "outputs": [
    {
     "data": {
      "text/plain": [
       "48.50735294117647"
      ]
     },
     "execution_count": 101,
     "metadata": {},
     "output_type": "execute_result"
    }
   ],
   "source": [
    "df['rand_number'].mean()"
   ]
  },
  {
   "cell_type": "code",
   "execution_count": 105,
   "id": "f32afe9f-2b9a-4c09-9665-a1e32c7e72c3",
   "metadata": {},
   "outputs": [
    {
     "data": {
      "text/plain": [
       "'ai analyst'"
      ]
     },
     "execution_count": 105,
     "metadata": {},
     "output_type": "execute_result"
    }
   ],
   "source": [
    "df['alias'].min()"
   ]
  },
  {
   "cell_type": "code",
   "execution_count": 103,
   "id": "1e28973c-20b0-4900-94a2-e7ed2b125db7",
   "metadata": {},
   "outputs": [
    {
     "data": {
      "text/plain": [
       "0                            ai linguist\n",
       "1                  ai operations manager\n",
       "2                     ai project manager\n",
       "3                ai solutions specialist\n",
       "4                annotated data reviewer\n",
       "                     ...                \n",
       "131                        ai specialist\n",
       "132    data engagement team data analyst\n",
       "133                data curation manager\n",
       "134                  head of master data\n",
       "135                   data collection qa\n",
       "Name: alias, Length: 136, dtype: object"
      ]
     },
     "execution_count": 103,
     "metadata": {},
     "output_type": "execute_result"
    }
   ],
   "source": [
    "df['alias']"
   ]
  },
  {
   "cell_type": "code",
   "execution_count": null,
   "id": "56e2cc6f-adb8-4acb-8aa5-8029c70cf60c",
   "metadata": {},
   "outputs": [],
   "source": []
  }
 ],
 "metadata": {
  "kernelspec": {
   "display_name": "Python [conda env:base] *",
   "language": "python",
   "name": "conda-base-py"
  },
  "language_info": {
   "codemirror_mode": {
    "name": "ipython",
    "version": 3
   },
   "file_extension": ".py",
   "mimetype": "text/x-python",
   "name": "python",
   "nbconvert_exporter": "python",
   "pygments_lexer": "ipython3",
   "version": "3.12.7"
  },
  "widgets": {
   "application/vnd.jupyter.widget-state+json": {
    "state": {},
    "version_major": 2,
    "version_minor": 0
   }
  }
 },
 "nbformat": 4,
 "nbformat_minor": 5
}
